{
 "cells": [
  {
   "cell_type": "code",
   "execution_count": 1,
   "metadata": {
    "id": "KSGyOJX4Q7T2"
   },
   "outputs": [],
   "source": [
    "#import pandas as pd\n",
    "\n",
    "#data = pd.read_csv('/content/final.csv')\n",
    "# data['audio_path'] = data['audio_path'].str.replace(\"\\\\\", \"/\")\n",
    "\n",
    "#data['audio_path']= data['audio_path'].str.replace('/content/gdrive/MyDrive/clips/audio','/content/drive/MyDrive/Training Data ASR/audio-20240314T063854Z-001/audio')\n",
    "#data.to_csv('updated_data.csv', index=False)"
   ]
  },
  {
   "cell_type": "code",
   "execution_count": 1,
   "metadata": {
    "id": "cg5Go0rhzipN"
   },
   "outputs": [],
   "source": []
  },
  {
   "cell_type": "code",
   "execution_count": 2,
   "metadata": {
    "id": "yUCRo6je4vwu"
   },
   "outputs": [],
   "source": [
    "#import pandas as pd\n",
    "\n",
    "#data = pd.read_csv('/content/updated_data.csv')\n",
    "#data.to_csv('updated_data.csv', index=False, encoding='utf-8')"
   ]
  },
  {
   "cell_type": "code",
   "execution_count": 2,
   "metadata": {
    "id": "0cMO38dM7elE"
   },
   "outputs": [],
   "source": []
  },
  {
   "cell_type": "code",
   "execution_count": 3,
   "metadata": {
    "id": "BrzFbpjGziHC"
   },
   "outputs": [],
   "source": [
    "\n",
    "#data.isnull().sum()"
   ]
  },
  {
   "cell_type": "code",
   "execution_count": 4,
   "metadata": {
    "id": "Z1NZjjPq8bq5"
   },
   "outputs": [],
   "source": [
    "\n",
    "#data.dropna(inplace=True)"
   ]
  },
  {
   "cell_type": "code",
   "execution_count": 5,
   "metadata": {
    "id": "J2cUdXIY8gsB"
   },
   "outputs": [],
   "source": [
    "#data.duplicated().sum()\n",
    "#data.isnull().sum()"
   ]
  },
  {
   "cell_type": "code",
   "execution_count": 6,
   "metadata": {
    "id": "2MELzJeVO-E_"
   },
   "outputs": [],
   "source": [
    "#data.shape"
   ]
  },
  {
   "cell_type": "code",
   "execution_count": 7,
   "metadata": {
    "id": "gaUkZPuW_PhD"
   },
   "outputs": [],
   "source": [
    "#import pandas as pd\n",
    "\n",
    "\n",
    "\n",
    "#data = data.sample(frac=1, random_state=42).reset_index(drop=True)\n",
    "\n",
    "#train_ratio = 0.8\n",
    "#test_ratio = 1 - train_ratio\n",
    "\n",
    "#train_size = int(train_ratio * len(data))\n",
    "\n",
    "#train_data = data[:train_size]\n",
    "#test_data = data[train_size:]\n",
    "\n",
    "#train_data.to_csv('train_data.csv', index=False)\n",
    "#test_data.to_csv('test_data.csv', index=False)\n",
    "\n",
    "#print(\"Training and testing data created successfully.\")\n"
   ]
  },
  {
   "cell_type": "code",
   "execution_count": 7,
   "metadata": {
    "id": "hoMyAetF8aRu"
   },
   "outputs": [],
   "source": []
  },
  {
   "cell_type": "code",
   "execution_count": 7,
   "metadata": {
    "id": "-fPdnbJi0odC"
   },
   "outputs": [],
   "source": []
  },
  {
   "cell_type": "code",
   "execution_count": 8,
   "metadata": {
    "colab": {
     "base_uri": "https://localhost:8080/"
    },
    "id": "qgjm2uL1wtrC",
    "outputId": "9dbbea4a-06dd-4516-d609-a9a181b81b67"
   },
   "outputs": [
    {
     "name": "stdout",
     "output_type": "stream",
     "text": [
      "Drive already mounted at /content/drive; to attempt to forcibly remount, call drive.mount(\"/content/drive\", force_remount=True).\n"
     ]
    }
   ],
   "source": [
    "from google.colab import drive\n",
    "drive.mount('/content/drive')"
   ]
  },
  {
   "cell_type": "code",
   "execution_count": 9,
   "metadata": {
    "colab": {
     "base_uri": "https://localhost:8080/"
    },
    "id": "FuVOuEW9-8q1",
    "outputId": "25f0953a-c6ae-4ebf-bdec-15b68108a664"
   },
   "outputs": [
    {
     "name": "stdout",
     "output_type": "stream",
     "text": [
      "Requirement already satisfied: datasets in /usr/local/lib/python3.10/dist-packages (2.18.0)\n",
      "Requirement already satisfied: filelock in /usr/local/lib/python3.10/dist-packages (from datasets) (3.13.3)\n",
      "Requirement already satisfied: numpy>=1.17 in /usr/local/lib/python3.10/dist-packages (from datasets) (1.25.2)\n",
      "Requirement already satisfied: pyarrow>=12.0.0 in /usr/local/lib/python3.10/dist-packages (from datasets) (14.0.2)\n",
      "Requirement already satisfied: pyarrow-hotfix in /usr/local/lib/python3.10/dist-packages (from datasets) (0.6)\n",
      "Requirement already satisfied: dill<0.3.9,>=0.3.0 in /usr/local/lib/python3.10/dist-packages (from datasets) (0.3.8)\n",
      "Requirement already satisfied: pandas in /usr/local/lib/python3.10/dist-packages (from datasets) (1.5.3)\n",
      "Requirement already satisfied: requests>=2.19.0 in /usr/local/lib/python3.10/dist-packages (from datasets) (2.31.0)\n",
      "Requirement already satisfied: tqdm>=4.62.1 in /usr/local/lib/python3.10/dist-packages (from datasets) (4.66.2)\n",
      "Requirement already satisfied: xxhash in /usr/local/lib/python3.10/dist-packages (from datasets) (3.4.1)\n",
      "Requirement already satisfied: multiprocess in /usr/local/lib/python3.10/dist-packages (from datasets) (0.70.16)\n",
      "Requirement already satisfied: fsspec[http]<=2024.2.0,>=2023.1.0 in /usr/local/lib/python3.10/dist-packages (from datasets) (2023.6.0)\n",
      "Requirement already satisfied: aiohttp in /usr/local/lib/python3.10/dist-packages (from datasets) (3.9.3)\n",
      "Requirement already satisfied: huggingface-hub>=0.19.4 in /usr/local/lib/python3.10/dist-packages (from datasets) (0.20.3)\n",
      "Requirement already satisfied: packaging in /usr/local/lib/python3.10/dist-packages (from datasets) (24.0)\n",
      "Requirement already satisfied: pyyaml>=5.1 in /usr/local/lib/python3.10/dist-packages (from datasets) (6.0.1)\n",
      "Requirement already satisfied: aiosignal>=1.1.2 in /usr/local/lib/python3.10/dist-packages (from aiohttp->datasets) (1.3.1)\n",
      "Requirement already satisfied: attrs>=17.3.0 in /usr/local/lib/python3.10/dist-packages (from aiohttp->datasets) (23.2.0)\n",
      "Requirement already satisfied: frozenlist>=1.1.1 in /usr/local/lib/python3.10/dist-packages (from aiohttp->datasets) (1.4.1)\n",
      "Requirement already satisfied: multidict<7.0,>=4.5 in /usr/local/lib/python3.10/dist-packages (from aiohttp->datasets) (6.0.5)\n",
      "Requirement already satisfied: yarl<2.0,>=1.0 in /usr/local/lib/python3.10/dist-packages (from aiohttp->datasets) (1.9.4)\n",
      "Requirement already satisfied: async-timeout<5.0,>=4.0 in /usr/local/lib/python3.10/dist-packages (from aiohttp->datasets) (4.0.3)\n",
      "Requirement already satisfied: typing-extensions>=3.7.4.3 in /usr/local/lib/python3.10/dist-packages (from huggingface-hub>=0.19.4->datasets) (4.10.0)\n",
      "Requirement already satisfied: charset-normalizer<4,>=2 in /usr/local/lib/python3.10/dist-packages (from requests>=2.19.0->datasets) (3.3.2)\n",
      "Requirement already satisfied: idna<4,>=2.5 in /usr/local/lib/python3.10/dist-packages (from requests>=2.19.0->datasets) (3.6)\n",
      "Requirement already satisfied: urllib3<3,>=1.21.1 in /usr/local/lib/python3.10/dist-packages (from requests>=2.19.0->datasets) (2.0.7)\n",
      "Requirement already satisfied: certifi>=2017.4.17 in /usr/local/lib/python3.10/dist-packages (from requests>=2.19.0->datasets) (2024.2.2)\n",
      "Requirement already satisfied: python-dateutil>=2.8.1 in /usr/local/lib/python3.10/dist-packages (from pandas->datasets) (2.8.2)\n",
      "Requirement already satisfied: pytz>=2020.1 in /usr/local/lib/python3.10/dist-packages (from pandas->datasets) (2023.4)\n",
      "Requirement already satisfied: six>=1.5 in /usr/local/lib/python3.10/dist-packages (from python-dateutil>=2.8.1->pandas->datasets) (1.16.0)\n"
     ]
    }
   ],
   "source": [
    "!pip install datasets"
   ]
  },
  {
   "cell_type": "code",
   "execution_count": 10,
   "metadata": {
    "id": "mTJ84Rq5_H1L"
   },
   "outputs": [],
   "source": [
    "from datasets import load_dataset"
   ]
  },
  {
   "cell_type": "code",
   "execution_count": 11,
   "metadata": {
    "colab": {
     "base_uri": "https://localhost:8080/"
    },
    "id": "2N2QZjs__Vjb",
    "outputId": "8590e180-690f-4015-8e36-9c8d6891ff80"
   },
   "outputs": [
    {
     "name": "stdout",
     "output_type": "stream",
     "text": [
      "Requirement already satisfied: transformers in /usr/local/lib/python3.10/dist-packages (4.39.2)\n",
      "Requirement already satisfied: filelock in /usr/local/lib/python3.10/dist-packages (from transformers) (3.13.3)\n",
      "Requirement already satisfied: huggingface-hub<1.0,>=0.19.3 in /usr/local/lib/python3.10/dist-packages (from transformers) (0.20.3)\n",
      "Requirement already satisfied: numpy>=1.17 in /usr/local/lib/python3.10/dist-packages (from transformers) (1.25.2)\n",
      "Requirement already satisfied: packaging>=20.0 in /usr/local/lib/python3.10/dist-packages (from transformers) (24.0)\n",
      "Requirement already satisfied: pyyaml>=5.1 in /usr/local/lib/python3.10/dist-packages (from transformers) (6.0.1)\n",
      "Requirement already satisfied: regex!=2019.12.17 in /usr/local/lib/python3.10/dist-packages (from transformers) (2023.12.25)\n",
      "Requirement already satisfied: requests in /usr/local/lib/python3.10/dist-packages (from transformers) (2.31.0)\n",
      "Requirement already satisfied: tokenizers<0.19,>=0.14 in /usr/local/lib/python3.10/dist-packages (from transformers) (0.15.2)\n",
      "Requirement already satisfied: safetensors>=0.4.1 in /usr/local/lib/python3.10/dist-packages (from transformers) (0.4.2)\n",
      "Requirement already satisfied: tqdm>=4.27 in /usr/local/lib/python3.10/dist-packages (from transformers) (4.66.2)\n",
      "Requirement already satisfied: fsspec>=2023.5.0 in /usr/local/lib/python3.10/dist-packages (from huggingface-hub<1.0,>=0.19.3->transformers) (2023.6.0)\n",
      "Requirement already satisfied: typing-extensions>=3.7.4.3 in /usr/local/lib/python3.10/dist-packages (from huggingface-hub<1.0,>=0.19.3->transformers) (4.10.0)\n",
      "Requirement already satisfied: charset-normalizer<4,>=2 in /usr/local/lib/python3.10/dist-packages (from requests->transformers) (3.3.2)\n",
      "Requirement already satisfied: idna<4,>=2.5 in /usr/local/lib/python3.10/dist-packages (from requests->transformers) (3.6)\n",
      "Requirement already satisfied: urllib3<3,>=1.21.1 in /usr/local/lib/python3.10/dist-packages (from requests->transformers) (2.0.7)\n",
      "Requirement already satisfied: certifi>=2017.4.17 in /usr/local/lib/python3.10/dist-packages (from requests->transformers) (2024.2.2)\n"
     ]
    }
   ],
   "source": [
    "!pip install transformers"
   ]
  },
  {
   "cell_type": "code",
   "execution_count": 12,
   "metadata": {
    "colab": {
     "base_uri": "https://localhost:8080/"
    },
    "id": "1wK7rn4q_cZk",
    "outputId": "d011b2f9-7732-482e-ea07-1218b0ec06de"
   },
   "outputs": [
    {
     "name": "stdout",
     "output_type": "stream",
     "text": [
      "Requirement already satisfied: torch in /usr/local/lib/python3.10/dist-packages (2.2.1+cu121)\n",
      "Requirement already satisfied: filelock in /usr/local/lib/python3.10/dist-packages (from torch) (3.13.3)\n",
      "Requirement already satisfied: typing-extensions>=4.8.0 in /usr/local/lib/python3.10/dist-packages (from torch) (4.10.0)\n",
      "Requirement already satisfied: sympy in /usr/local/lib/python3.10/dist-packages (from torch) (1.12)\n",
      "Requirement already satisfied: networkx in /usr/local/lib/python3.10/dist-packages (from torch) (3.2.1)\n",
      "Requirement already satisfied: jinja2 in /usr/local/lib/python3.10/dist-packages (from torch) (3.1.3)\n",
      "Requirement already satisfied: fsspec in /usr/local/lib/python3.10/dist-packages (from torch) (2023.6.0)\n",
      "Requirement already satisfied: nvidia-cuda-nvrtc-cu12==12.1.105 in /usr/local/lib/python3.10/dist-packages (from torch) (12.1.105)\n",
      "Requirement already satisfied: nvidia-cuda-runtime-cu12==12.1.105 in /usr/local/lib/python3.10/dist-packages (from torch) (12.1.105)\n",
      "Requirement already satisfied: nvidia-cuda-cupti-cu12==12.1.105 in /usr/local/lib/python3.10/dist-packages (from torch) (12.1.105)\n",
      "Requirement already satisfied: nvidia-cudnn-cu12==8.9.2.26 in /usr/local/lib/python3.10/dist-packages (from torch) (8.9.2.26)\n",
      "Requirement already satisfied: nvidia-cublas-cu12==12.1.3.1 in /usr/local/lib/python3.10/dist-packages (from torch) (12.1.3.1)\n",
      "Requirement already satisfied: nvidia-cufft-cu12==11.0.2.54 in /usr/local/lib/python3.10/dist-packages (from torch) (11.0.2.54)\n",
      "Requirement already satisfied: nvidia-curand-cu12==10.3.2.106 in /usr/local/lib/python3.10/dist-packages (from torch) (10.3.2.106)\n",
      "Requirement already satisfied: nvidia-cusolver-cu12==11.4.5.107 in /usr/local/lib/python3.10/dist-packages (from torch) (11.4.5.107)\n",
      "Requirement already satisfied: nvidia-cusparse-cu12==12.1.0.106 in /usr/local/lib/python3.10/dist-packages (from torch) (12.1.0.106)\n",
      "Requirement already satisfied: nvidia-nccl-cu12==2.19.3 in /usr/local/lib/python3.10/dist-packages (from torch) (2.19.3)\n",
      "Requirement already satisfied: nvidia-nvtx-cu12==12.1.105 in /usr/local/lib/python3.10/dist-packages (from torch) (12.1.105)\n",
      "Requirement already satisfied: triton==2.2.0 in /usr/local/lib/python3.10/dist-packages (from torch) (2.2.0)\n",
      "Requirement already satisfied: nvidia-nvjitlink-cu12 in /usr/local/lib/python3.10/dist-packages (from nvidia-cusolver-cu12==11.4.5.107->torch) (12.4.99)\n",
      "Requirement already satisfied: MarkupSafe>=2.0 in /usr/local/lib/python3.10/dist-packages (from jinja2->torch) (2.1.5)\n",
      "Requirement already satisfied: mpmath>=0.19 in /usr/local/lib/python3.10/dist-packages (from sympy->torch) (1.3.0)\n"
     ]
    }
   ],
   "source": [
    "!pip install torch"
   ]
  },
  {
   "cell_type": "code",
   "execution_count": 13,
   "metadata": {
    "id": "OyVWqFvD_il7"
   },
   "outputs": [],
   "source": [
    "from transformers import Wav2Vec2ForCTC, Wav2Vec2Tokenizer, TrainingArguments, Trainer\n"
   ]
  },
  {
   "cell_type": "code",
   "execution_count": 14,
   "metadata": {
    "id": "jCugcOANJHE7"
   },
   "outputs": [],
   "source": [
    "common_voice_train = load_dataset(\"csv\", data_files=\"/content/final_final.csv\", split=\"train\")\n",
    "common_voice_test = load_dataset(\"csv\", data_files=\"/content/devansh_final_1_2.csv\", split=\"train\")"
   ]
  },
  {
   "cell_type": "code",
   "execution_count": 15,
   "metadata": {
    "colab": {
     "base_uri": "https://localhost:8080/"
    },
    "id": "uRi7i679JUoS",
    "outputId": "6048f660-0bce-4154-fb11-7df2f278d5f4"
   },
   "outputs": [
    {
     "data": {
      "text/plain": [
       "{'Transcript': 'ਬਾਬਾ ਫਰੀਦ ਨੇ ਰੱਬ ਦੀ ਭਗਤੀ ਕੀਤੀ',\n",
       " 'text_id': 'A1_001',\n",
       " 'audio_path': '/content/drive/MyDrive/Training Data ASR/audio-20240314T063854Z-001/audio/A1/A1_001.wav'}"
      ]
     },
     "execution_count": 15,
     "metadata": {},
     "output_type": "execute_result"
    }
   ],
   "source": [
    "common_voice_train[0]"
   ]
  },
  {
   "cell_type": "code",
   "execution_count": 16,
   "metadata": {
    "colab": {
     "base_uri": "https://localhost:8080/"
    },
    "id": "kI2YFQHVJgxj",
    "outputId": "d862c714-8561-44c1-9295-8fcfb809f6f4"
   },
   "outputs": [
    {
     "name": "stdout",
     "output_type": "stream",
     "text": [
      "Requirement already satisfied: torchaudio in /usr/local/lib/python3.10/dist-packages (2.2.1+cu121)\n",
      "Requirement already satisfied: torch==2.2.1 in /usr/local/lib/python3.10/dist-packages (from torchaudio) (2.2.1+cu121)\n",
      "Requirement already satisfied: filelock in /usr/local/lib/python3.10/dist-packages (from torch==2.2.1->torchaudio) (3.13.3)\n",
      "Requirement already satisfied: typing-extensions>=4.8.0 in /usr/local/lib/python3.10/dist-packages (from torch==2.2.1->torchaudio) (4.10.0)\n",
      "Requirement already satisfied: sympy in /usr/local/lib/python3.10/dist-packages (from torch==2.2.1->torchaudio) (1.12)\n",
      "Requirement already satisfied: networkx in /usr/local/lib/python3.10/dist-packages (from torch==2.2.1->torchaudio) (3.2.1)\n",
      "Requirement already satisfied: jinja2 in /usr/local/lib/python3.10/dist-packages (from torch==2.2.1->torchaudio) (3.1.3)\n",
      "Requirement already satisfied: fsspec in /usr/local/lib/python3.10/dist-packages (from torch==2.2.1->torchaudio) (2023.6.0)\n",
      "Requirement already satisfied: nvidia-cuda-nvrtc-cu12==12.1.105 in /usr/local/lib/python3.10/dist-packages (from torch==2.2.1->torchaudio) (12.1.105)\n",
      "Requirement already satisfied: nvidia-cuda-runtime-cu12==12.1.105 in /usr/local/lib/python3.10/dist-packages (from torch==2.2.1->torchaudio) (12.1.105)\n",
      "Requirement already satisfied: nvidia-cuda-cupti-cu12==12.1.105 in /usr/local/lib/python3.10/dist-packages (from torch==2.2.1->torchaudio) (12.1.105)\n",
      "Requirement already satisfied: nvidia-cudnn-cu12==8.9.2.26 in /usr/local/lib/python3.10/dist-packages (from torch==2.2.1->torchaudio) (8.9.2.26)\n",
      "Requirement already satisfied: nvidia-cublas-cu12==12.1.3.1 in /usr/local/lib/python3.10/dist-packages (from torch==2.2.1->torchaudio) (12.1.3.1)\n",
      "Requirement already satisfied: nvidia-cufft-cu12==11.0.2.54 in /usr/local/lib/python3.10/dist-packages (from torch==2.2.1->torchaudio) (11.0.2.54)\n",
      "Requirement already satisfied: nvidia-curand-cu12==10.3.2.106 in /usr/local/lib/python3.10/dist-packages (from torch==2.2.1->torchaudio) (10.3.2.106)\n",
      "Requirement already satisfied: nvidia-cusolver-cu12==11.4.5.107 in /usr/local/lib/python3.10/dist-packages (from torch==2.2.1->torchaudio) (11.4.5.107)\n",
      "Requirement already satisfied: nvidia-cusparse-cu12==12.1.0.106 in /usr/local/lib/python3.10/dist-packages (from torch==2.2.1->torchaudio) (12.1.0.106)\n",
      "Requirement already satisfied: nvidia-nccl-cu12==2.19.3 in /usr/local/lib/python3.10/dist-packages (from torch==2.2.1->torchaudio) (2.19.3)\n",
      "Requirement already satisfied: nvidia-nvtx-cu12==12.1.105 in /usr/local/lib/python3.10/dist-packages (from torch==2.2.1->torchaudio) (12.1.105)\n",
      "Requirement already satisfied: triton==2.2.0 in /usr/local/lib/python3.10/dist-packages (from torch==2.2.1->torchaudio) (2.2.0)\n",
      "Requirement already satisfied: nvidia-nvjitlink-cu12 in /usr/local/lib/python3.10/dist-packages (from nvidia-cusolver-cu12==11.4.5.107->torch==2.2.1->torchaudio) (12.4.99)\n",
      "Requirement already satisfied: MarkupSafe>=2.0 in /usr/local/lib/python3.10/dist-packages (from jinja2->torch==2.2.1->torchaudio) (2.1.5)\n",
      "Requirement already satisfied: mpmath>=0.19 in /usr/local/lib/python3.10/dist-packages (from sympy->torch==2.2.1->torchaudio) (1.3.0)\n",
      "Requirement already satisfied: librosa in /usr/local/lib/python3.10/dist-packages (0.10.1)\n",
      "Requirement already satisfied: audioread>=2.1.9 in /usr/local/lib/python3.10/dist-packages (from librosa) (3.0.1)\n",
      "Requirement already satisfied: numpy!=1.22.0,!=1.22.1,!=1.22.2,>=1.20.3 in /usr/local/lib/python3.10/dist-packages (from librosa) (1.25.2)\n",
      "Requirement already satisfied: scipy>=1.2.0 in /usr/local/lib/python3.10/dist-packages (from librosa) (1.11.4)\n",
      "Requirement already satisfied: scikit-learn>=0.20.0 in /usr/local/lib/python3.10/dist-packages (from librosa) (1.2.2)\n",
      "Requirement already satisfied: joblib>=0.14 in /usr/local/lib/python3.10/dist-packages (from librosa) (1.3.2)\n",
      "Requirement already satisfied: decorator>=4.3.0 in /usr/local/lib/python3.10/dist-packages (from librosa) (4.4.2)\n",
      "Requirement already satisfied: numba>=0.51.0 in /usr/local/lib/python3.10/dist-packages (from librosa) (0.58.1)\n",
      "Requirement already satisfied: soundfile>=0.12.1 in /usr/local/lib/python3.10/dist-packages (from librosa) (0.12.1)\n",
      "Requirement already satisfied: pooch>=1.0 in /usr/local/lib/python3.10/dist-packages (from librosa) (1.8.1)\n",
      "Requirement already satisfied: soxr>=0.3.2 in /usr/local/lib/python3.10/dist-packages (from librosa) (0.3.7)\n",
      "Requirement already satisfied: typing-extensions>=4.1.1 in /usr/local/lib/python3.10/dist-packages (from librosa) (4.10.0)\n",
      "Requirement already satisfied: lazy-loader>=0.1 in /usr/local/lib/python3.10/dist-packages (from librosa) (0.3)\n",
      "Requirement already satisfied: msgpack>=1.0 in /usr/local/lib/python3.10/dist-packages (from librosa) (1.0.8)\n",
      "Requirement already satisfied: llvmlite<0.42,>=0.41.0dev0 in /usr/local/lib/python3.10/dist-packages (from numba>=0.51.0->librosa) (0.41.1)\n",
      "Requirement already satisfied: platformdirs>=2.5.0 in /usr/local/lib/python3.10/dist-packages (from pooch>=1.0->librosa) (4.2.0)\n",
      "Requirement already satisfied: packaging>=20.0 in /usr/local/lib/python3.10/dist-packages (from pooch>=1.0->librosa) (24.0)\n",
      "Requirement already satisfied: requests>=2.19.0 in /usr/local/lib/python3.10/dist-packages (from pooch>=1.0->librosa) (2.31.0)\n",
      "Requirement already satisfied: threadpoolctl>=2.0.0 in /usr/local/lib/python3.10/dist-packages (from scikit-learn>=0.20.0->librosa) (3.4.0)\n",
      "Requirement already satisfied: cffi>=1.0 in /usr/local/lib/python3.10/dist-packages (from soundfile>=0.12.1->librosa) (1.16.0)\n",
      "Requirement already satisfied: pycparser in /usr/local/lib/python3.10/dist-packages (from cffi>=1.0->soundfile>=0.12.1->librosa) (2.21)\n",
      "Requirement already satisfied: charset-normalizer<4,>=2 in /usr/local/lib/python3.10/dist-packages (from requests>=2.19.0->pooch>=1.0->librosa) (3.3.2)\n",
      "Requirement already satisfied: idna<4,>=2.5 in /usr/local/lib/python3.10/dist-packages (from requests>=2.19.0->pooch>=1.0->librosa) (3.6)\n",
      "Requirement already satisfied: urllib3<3,>=1.21.1 in /usr/local/lib/python3.10/dist-packages (from requests>=2.19.0->pooch>=1.0->librosa) (2.0.7)\n",
      "Requirement already satisfied: certifi>=2017.4.17 in /usr/local/lib/python3.10/dist-packages (from requests>=2.19.0->pooch>=1.0->librosa) (2024.2.2)\n",
      "Requirement already satisfied: jiwer in /usr/local/lib/python3.10/dist-packages (3.0.3)\n",
      "Requirement already satisfied: click<9.0.0,>=8.1.3 in /usr/local/lib/python3.10/dist-packages (from jiwer) (8.1.7)\n",
      "Requirement already satisfied: rapidfuzz<4,>=3 in /usr/local/lib/python3.10/dist-packages (from jiwer) (3.7.0)\n"
     ]
    }
   ],
   "source": [
    "!pip install torchaudio\n",
    "!pip install librosa\n",
    "!pip install jiwer"
   ]
  },
  {
   "cell_type": "code",
   "execution_count": 17,
   "metadata": {
    "id": "ZiCvTgsCQx8M"
   },
   "outputs": [],
   "source": [
    "from datasets import ClassLabel\n",
    "import random\n",
    "import pandas as pd\n",
    "from IPython.display import display, HTML\n",
    "\n",
    "def show_random_elements(dataset, num_examples=10):\n",
    "    assert num_examples <= len(dataset), \"Can't pick more elements than there are in the dataset.\"\n",
    "    picks = []\n",
    "    for _ in range(num_examples):\n",
    "        pick = random.randint(0, len(dataset)-1)\n",
    "        while pick in picks:\n",
    "            pick = random.randint(0, len(dataset)-1)\n",
    "        picks.append(pick)\n",
    "\n",
    "    df = pd.DataFrame(dataset[picks])\n",
    "    display(HTML(df.to_html()))"
   ]
  },
  {
   "cell_type": "code",
   "execution_count": 18,
   "metadata": {
    "colab": {
     "base_uri": "https://localhost:8080/",
     "height": 676
    },
    "id": "9YlL9WxVQ4E_",
    "outputId": "ca59c24f-475c-43ef-d3cc-f583bf4a6f6b"
   },
   "outputs": [
    {
     "data": {
      "text/html": [
       "<table border=\"1\" class=\"dataframe\">\n",
       "  <thead>\n",
       "    <tr style=\"text-align: right;\">\n",
       "      <th></th>\n",
       "      <th>Transcript</th>\n",
       "      <th>text_id</th>\n",
       "    </tr>\n",
       "  </thead>\n",
       "  <tbody>\n",
       "    <tr>\n",
       "      <th>0</th>\n",
       "      <td>ਸਾਨੂੰ ਵੱਡਿਆਂ ਦੀ ਗੱਲ ਵਿੱਚ ਦਾਖਲ ਨਹੀਂ ਦੇਣਾ ਚਾਹੀਦਾ</td>\n",
       "      <td>P71_047</td>\n",
       "    </tr>\n",
       "    <tr>\n",
       "      <th>1</th>\n",
       "      <td>ਲਾਜੋ ਨੇ ਕੁੱਕੜ ਨੂੰ ਦਾਣੇ ਪਾਏ</td>\n",
       "      <td>A3_407</td>\n",
       "    </tr>\n",
       "    <tr>\n",
       "      <th>2</th>\n",
       "      <td>ਸਾਡੇ ਘਰ ਦੇ ਨੇੜੇ ਹੀ ਇੱਕ ਪੀਰ ਦੀ ਸਮਾਧੀ ਹੈ</td>\n",
       "      <td>P34_051</td>\n",
       "    </tr>\n",
       "    <tr>\n",
       "      <th>3</th>\n",
       "      <td>ਸਾਹਿਤ ਸਾਹਿਤ  ਸਭਾ ਵਿੱਚ ਪਰ ਪਰਸ ਪਰਸਾ ਨਾਵਲ ਦੀ ਕਾਫੀ ਚਰਚਾ ਹੋਈ</td>\n",
       "      <td>P30_121</td>\n",
       "    </tr>\n",
       "    <tr>\n",
       "      <th>4</th>\n",
       "      <td>ਮੰਜੀਤ ਨੇ ਕੱਚ ਦੀਆਂ ਵੰਗਾਂ ਖਰੀਦੀਆਂ</td>\n",
       "      <td>A17_080</td>\n",
       "    </tr>\n",
       "    <tr>\n",
       "      <th>5</th>\n",
       "      <td>ਕਿਸੇ ਦਾ ਘਰ ਢਾਹੁਣਾ ਚੰਗੀ ਗੱਲ ਨਹੀਂ</td>\n",
       "      <td>A27_243</td>\n",
       "    </tr>\n",
       "    <tr>\n",
       "      <th>6</th>\n",
       "      <td>ਭਰਾ ਦੇ ਵਿਆਹ ਤੇ ਨੱਚ ਕੇ ਅਸੀਂ ਬਹੁਤ ਧਮਾਲ ਪਾਈ</td>\n",
       "      <td>A2_215</td>\n",
       "    </tr>\n",
       "    <tr>\n",
       "      <th>7</th>\n",
       "      <td>ਕਾਰਪੋਰੇਸ਼ਨ ਵਾਲਿਆਂ ਨੇ ਸਾਰੀਆਂ ਝੋਪੜੀਆਂ ਹਟਾ ਦਿੱਤੀਆਂ</td>\n",
       "      <td>A3_168</td>\n",
       "    </tr>\n",
       "    <tr>\n",
       "      <th>8</th>\n",
       "      <td>ਭੰਗੜਾ ਪੰਜਾਬ ਦਾ ਲੋਕ ਨ੍ਰਿਤ ਹੈ</td>\n",
       "      <td>P32_133</td>\n",
       "    </tr>\n",
       "    <tr>\n",
       "      <th>9</th>\n",
       "      <td>ਮਹਾਰਾਜਾ ਰਣਜੀਤ ਸਿੰਘ ਬਹੁਤ ਵੱਡੀ ਹਸਤੀ ਸੀ</td>\n",
       "      <td>A4_058</td>\n",
       "    </tr>\n",
       "    <tr>\n",
       "      <th>10</th>\n",
       "      <td>ਅੱਜ-ਕੱਲ੍ਹ ਹਰ ਕੋਈ ਆਪਣਾ ਸਮਾਨ ਵੇਚਣ ਲਈ ਇਸ਼ਤਿਹਾਰ ਦਿੰਦਾ ਹੈ</td>\n",
       "      <td>P69_034</td>\n",
       "    </tr>\n",
       "    <tr>\n",
       "      <th>11</th>\n",
       "      <td>ਢੋਲ ਬਜਾਣ ਨਾਲ ਪੈਰ ਆਪਣੇ ਆਪ ਹੀ ਨੱਚਣ ਲੱਗ ਪੈਂਦੇ ਹਨ</td>\n",
       "      <td>P68_036</td>\n",
       "    </tr>\n",
       "    <tr>\n",
       "      <th>12</th>\n",
       "      <td>ਗਰਮੀਆਂ ਵਿੱਚ ਬਿਜਲੀ ਦੀ ਖਪਤ ਵੱਧ ਜਾਂਦੀ ਹੈ</td>\n",
       "      <td>A4_094</td>\n",
       "    </tr>\n",
       "    <tr>\n",
       "      <th>13</th>\n",
       "      <td>ਤੰਦਰੁਸਤ ਰਹਿਣ ਲਈ ਕਸਰਤ ਕਰਨੀ ਜਰੂਰੀ ਹੈ</td>\n",
       "      <td>A3_072</td>\n",
       "    </tr>\n",
       "    <tr>\n",
       "      <th>14</th>\n",
       "      <td>ਬਿੱਛੂ ਦੇ ਡੰਗ ਤੋਂ ਬਚਣਾ ਬਹੁਤ ਮੁਸ਼ਕਿਲ ਹੁੰਦਾ ਹੈ</td>\n",
       "      <td>A17_199</td>\n",
       "    </tr>\n",
       "    <tr>\n",
       "      <th>15</th>\n",
       "      <td>ਇਮਤਿਹਾਨ ਦੀ ਤਿਆਰੀ ਵਿੱਚ ਮੈਂ ਕੋਈ ਕਸਰ ਨਹੀਂ ਛੱਡੀ</td>\n",
       "      <td>A45_074</td>\n",
       "    </tr>\n",
       "    <tr>\n",
       "      <th>16</th>\n",
       "      <td>ਛੱਪੜ ਵਿੱਚ ਪਾਣੀ ਬਹੁਤ ਘੱਟ ਸੀ</td>\n",
       "      <td>A20_417</td>\n",
       "    </tr>\n",
       "    <tr>\n",
       "      <th>17</th>\n",
       "      <td>ਸਾਨੂੰ ਆਪਣੇ ਧਰਮ ਦਾ ਪੱਕਾ ਹੋਣਾ ਚਾਹੀਦਾ ਹੈ</td>\n",
       "      <td>P40_121</td>\n",
       "    </tr>\n",
       "    <tr>\n",
       "      <th>18</th>\n",
       "      <td>ਇਸ ਸਾਲ ਮੈਨੂੰ ਕਾਰੋਬਾਰ ਵਿੱਚ ਕੋਈ ਲਾਭ ਨਹੀਂ ਹੋਇਆ</td>\n",
       "      <td>A4_391</td>\n",
       "    </tr>\n",
       "    <tr>\n",
       "      <th>19</th>\n",
       "      <td>ਭਰਾ ਦੇ ਵਿਆਹ ਤੇ ਨੱਚ ਕੇ ਅਸੀਂ ਬਹੁਤ ਧਮਾਲ ਪਾਈ</td>\n",
       "      <td>A26_216</td>\n",
       "    </tr>\n",
       "  </tbody>\n",
       "</table>"
      ],
      "text/plain": [
       "<IPython.core.display.HTML object>"
      ]
     },
     "metadata": {},
     "output_type": "display_data"
    }
   ],
   "source": [
    "show_random_elements(common_voice_train.remove_columns([\"audio_path\"]), num_examples=20)"
   ]
  },
  {
   "cell_type": "code",
   "execution_count": 19,
   "metadata": {
    "colab": {
     "base_uri": "https://localhost:8080/"
    },
    "id": "0oGeUBCxjyfT",
    "outputId": "3be9e997-511a-4977-825e-650e3f3ce9e6"
   },
   "outputs": [
    {
     "data": {
      "text/plain": [
       "{'Transcript': 'ਬਾਬਾ ਫਰੀਦ ਨੇ ਰੱਬ ਦੀ ਭਗਤੀ ਕੀਤੀ',\n",
       " 'text_id': 'A1_001',\n",
       " 'audio_path': '/content/drive/MyDrive/Training Data ASR/audio-20240314T063854Z-001/audio/A1/A1_001.wav'}"
      ]
     },
     "execution_count": 19,
     "metadata": {},
     "output_type": "execute_result"
    }
   ],
   "source": [
    "common_voice_train[0]"
   ]
  },
  {
   "cell_type": "code",
   "execution_count": 20,
   "metadata": {
    "id": "G-2tQ1fpQ4HU"
   },
   "outputs": [],
   "source": [
    "import re\n",
    "\n",
    "chars_to_ignore_regex = r'[\\,\\?\\.\\!\\-\\;\\:\\\"\\“\\%\\‘\\”\\�]'\n",
    "\n",
    "def remove_special_characters(batch):\n",
    "    transcript = str(batch[\"Transcript\"])  # Convert to string\n",
    "    cleaned_transcript = re.sub(chars_to_ignore_regex, '', transcript).lower() + \" \"\n",
    "    batch[\"Transcript\"] = cleaned_transcript\n",
    "    return batch\n"
   ]
  },
  {
   "cell_type": "code",
   "execution_count": 21,
   "metadata": {
    "id": "acOJ46VGQ4Jy"
   },
   "outputs": [],
   "source": [
    "common_voice_train = common_voice_train.map(remove_special_characters)\n",
    "common_voice_test = common_voice_test.map(remove_special_characters)"
   ]
  },
  {
   "cell_type": "code",
   "execution_count": 22,
   "metadata": {
    "colab": {
     "base_uri": "https://localhost:8080/",
     "height": 363
    },
    "id": "52n4HZo9Q4MH",
    "outputId": "0fa01722-eb21-4d64-cf53-a95342e89647"
   },
   "outputs": [
    {
     "data": {
      "text/html": [
       "<table border=\"1\" class=\"dataframe\">\n",
       "  <thead>\n",
       "    <tr style=\"text-align: right;\">\n",
       "      <th></th>\n",
       "      <th>Transcript</th>\n",
       "      <th>text_id</th>\n",
       "    </tr>\n",
       "  </thead>\n",
       "  <tbody>\n",
       "    <tr>\n",
       "      <th>0</th>\n",
       "      <td>ਹਮੇਸ਼ਾ ਬਚਤ ਦੀ ਆਦਤ ਪਾਓ</td>\n",
       "      <td>P68_119</td>\n",
       "    </tr>\n",
       "    <tr>\n",
       "      <th>1</th>\n",
       "      <td>ਮੈਨੂੰ ਜਹਾਜ ਦਾ ਸਫਰ ਬਹੁਤ ਚੰਗਾ ਲੱਗਦਾ ਹੈ</td>\n",
       "      <td>P60_056</td>\n",
       "    </tr>\n",
       "    <tr>\n",
       "      <th>2</th>\n",
       "      <td>ਬਹੁਤ ਸਾਰੀਆਂ ਚੀਜਾਂ ਅਸੀਂ ਥੋਕ ਦੇ ਭਾਅ ਲਿਆਉਂਦੇ ਹਾਂ</td>\n",
       "      <td>P40_070</td>\n",
       "    </tr>\n",
       "    <tr>\n",
       "      <th>3</th>\n",
       "      <td>ਜਿਮੀਦਾਰ ਕਿਸਾਨਾਂ ਤੋਂ ਲਗਾਨ ਵਸੂਲਦੇ ਸਨ</td>\n",
       "      <td>A29_316</td>\n",
       "    </tr>\n",
       "    <tr>\n",
       "      <th>4</th>\n",
       "      <td>ਰਮੇਸ਼ ਕੰਮ ਕਰਨ ਦਾ ਇੱਕ ਬਹਾਨਾ ਲੱਭਦਾ ਰਹਿੰਦਾ ਹੈ</td>\n",
       "      <td>A20_319</td>\n",
       "    </tr>\n",
       "    <tr>\n",
       "      <th>5</th>\n",
       "      <td>ਕੋਈ ਵੀ ਕੰਮ ਢੰਗ ਨਾਲ ਕਰੋ</td>\n",
       "      <td>A18_216</td>\n",
       "    </tr>\n",
       "    <tr>\n",
       "      <th>6</th>\n",
       "      <td>ਬੱਚੇ ਤੱਪੜਾਂ ਦੇ ਬੈਠ ਕੇ ਪੜਦੇ ਹਨ</td>\n",
       "      <td>A20_416</td>\n",
       "    </tr>\n",
       "    <tr>\n",
       "      <th>7</th>\n",
       "      <td>ਰਾਜੂ ਇਸ ਘੱਟਣਾ ਦਾ ਚਸ਼ਮਦੀਦ ਗਵਾਹ ਹੈ</td>\n",
       "      <td>P60_034</td>\n",
       "    </tr>\n",
       "    <tr>\n",
       "      <th>8</th>\n",
       "      <td>ਉਹ ਇੱਕ ਉੱਚ ਸੰਸਥਾ ਦਾ ਮੈਂਬਰ ਹੈ</td>\n",
       "      <td>P58_016</td>\n",
       "    </tr>\n",
       "    <tr>\n",
       "      <th>9</th>\n",
       "      <td>ਅਸਾਮ ਵਿੱਚ ਬਹੁਤ ਸੰਘਣਾ ਜੰਗਲ ਹੈ</td>\n",
       "      <td>A14_156</td>\n",
       "    </tr>\n",
       "  </tbody>\n",
       "</table>"
      ],
      "text/plain": [
       "<IPython.core.display.HTML object>"
      ]
     },
     "metadata": {},
     "output_type": "display_data"
    }
   ],
   "source": [
    "show_random_elements(common_voice_train.remove_columns([\"audio_path\"]))"
   ]
  },
  {
   "cell_type": "code",
   "execution_count": 23,
   "metadata": {
    "id": "nSHKzBcJQ4Oe"
   },
   "outputs": [],
   "source": [
    "def extract_all_chars(batch):\n",
    "  all_text = \" \".join(batch[\"Transcript\"])\n",
    "  vocab = list(set(all_text))\n",
    "  return {\"vocab\": [vocab], \"all_text\": [all_text]}"
   ]
  },
  {
   "cell_type": "code",
   "execution_count": 24,
   "metadata": {
    "colab": {
     "base_uri": "https://localhost:8080/",
     "height": 81,
     "referenced_widgets": [
      "4de498b5f6d34d5c8a30c2aaf0f1b6c9",
      "0dc968ac0c734a1d9942c03dc84859ed",
      "245e7223df054b69bc38000d7ba7664f",
      "a295e6fd7df741a3a2f5f95a80fc3941",
      "cd848a7b12654990b7d09d06157d3875",
      "16f8f63b4fb841ba98fbe4811dced503",
      "0d7c3a16b9254e369b05269b16d58b0b",
      "c1843c0e8f6541e7bd7181e727e811cc",
      "50dc9043443841f29db4f0a50d05bda3",
      "e111757821694f38ba9db842256086ca",
      "46e37a0b2b57432fa12f7642f5836582",
      "302bcae25a054bb990b458cf36aee5c1",
      "9875299649de4644803ebf360793d062",
      "e8abcadccc3249339eb7bb59ffa1089f",
      "63758a7c597e422d882b08664b3201c4",
      "464b9558b3c64f32888062a936bceeac",
      "e2af725155384e8b83d961a25e2e1bd3",
      "13313a575a084035886ebd67cea308ca",
      "fbdb41870c524f728eeaaf2e09abb468",
      "b56eb041f75445a2b294212f4d23d086",
      "9913eeb1bf994a07b3f84d0a70b86639",
      "a078a0e590fb40068e24d09846973f5a"
     ]
    },
    "id": "uoQd2oI6Q4RA",
    "outputId": "335ba3c7-6945-4d29-862f-e6a05274f0d6"
   },
   "outputs": [
    {
     "data": {
      "application/vnd.jupyter.widget-view+json": {
       "model_id": "4de498b5f6d34d5c8a30c2aaf0f1b6c9",
       "version_major": 2,
       "version_minor": 0
      },
      "text/plain": [
       "Map:   0%|          | 0/12540 [00:00<?, ? examples/s]"
      ]
     },
     "metadata": {},
     "output_type": "display_data"
    },
    {
     "data": {
      "application/vnd.jupyter.widget-view+json": {
       "model_id": "302bcae25a054bb990b458cf36aee5c1",
       "version_major": 2,
       "version_minor": 0
      },
      "text/plain": [
       "Map:   0%|          | 0/3103 [00:00<?, ? examples/s]"
      ]
     },
     "metadata": {},
     "output_type": "display_data"
    }
   ],
   "source": [
    "vocab_train = common_voice_train.map(extract_all_chars, batched=True, batch_size=-1, keep_in_memory=True, remove_columns=common_voice_train.column_names)\n",
    "vocab_test = common_voice_test.map(extract_all_chars, batched=True, batch_size=-1, keep_in_memory=True, remove_columns=common_voice_test.column_names)"
   ]
  },
  {
   "cell_type": "code",
   "execution_count": 25,
   "metadata": {
    "id": "pA2qABH5Q4TZ"
   },
   "outputs": [],
   "source": [
    "vocab_list = list(set(vocab_train[\"vocab\"][0]) | set(vocab_test[\"vocab\"][0]))"
   ]
  },
  {
   "cell_type": "code",
   "execution_count": 26,
   "metadata": {
    "colab": {
     "base_uri": "https://localhost:8080/"
    },
    "id": "f55z_ix2Q4V_",
    "outputId": "afb97531-341e-4c82-fcfb-1796a4756f55"
   },
   "outputs": [
    {
     "data": {
      "text/plain": [
       "{'ਉ': 0,\n",
       " 'ਜ਼': 1,\n",
       " 'ਓ': 2,\n",
       " 'ੀ': 3,\n",
       " '4': 4,\n",
       " 'ਪ': 5,\n",
       " 'ਠ': 6,\n",
       " 'ੂ': 7,\n",
       " 'ਧ': 8,\n",
       " 'ਚ': 9,\n",
       " 'ੜ': 10,\n",
       " '਼': 11,\n",
       " 'ਐ': 12,\n",
       " 'ੱ': 13,\n",
       " 'ਤ': 14,\n",
       " 'ਟ': 15,\n",
       " 'ੇ': 16,\n",
       " 'ਫ਼': 17,\n",
       " 'ੋ': 18,\n",
       " '5': 19,\n",
       " 'ਏ': 20,\n",
       " 'ਾ': 21,\n",
       " 'ਸ': 22,\n",
       " 'ਢ': 23,\n",
       " 'ਲ਼': 24,\n",
       " 'ਈ': 25,\n",
       " '1': 26,\n",
       " 'ਣ': 27,\n",
       " 'ਨ': 28,\n",
       " '2': 29,\n",
       " 'ਆ': 30,\n",
       " 'ਹ': 31,\n",
       " 'ਸ਼': 32,\n",
       " 'ਵ': 33,\n",
       " 'ਥ': 34,\n",
       " 'ਝ': 35,\n",
       " 'ਗ਼': 36,\n",
       " 'ਊ': 37,\n",
       " 'ਔ': 38,\n",
       " '_': 39,\n",
       " 'n': 40,\n",
       " 'ਖ਼': 41,\n",
       " 'ਰ': 42,\n",
       " '0': 43,\n",
       " 'ੰ': 44,\n",
       " 'ਂ': 45,\n",
       " '।': 46,\n",
       " 'ਇ': 47,\n",
       " 'ਦ': 48,\n",
       " \"'\": 49,\n",
       " 'ਮ': 50,\n",
       " 'ੈ': 51,\n",
       " 'ਡ': 52,\n",
       " '6': 53,\n",
       " 'ਗ': 54,\n",
       " 'ਭ': 55,\n",
       " '3': 56,\n",
       " 'ਫ': 57,\n",
       " ' ': 58,\n",
       " 'ਬ': 59,\n",
       " 'ਿ': 60,\n",
       " '7': 61,\n",
       " 'ਅ': 62,\n",
       " 'p': 63,\n",
       " 'ਕ': 64,\n",
       " '੍': 65,\n",
       " 'ਲ': 66,\n",
       " 'ਯ': 67,\n",
       " 'ਖ': 68,\n",
       " 'ਘ': 69,\n",
       " 'ੌ': 70,\n",
       " 'ਜ': 71,\n",
       " 'ਛ': 72,\n",
       " 'ੁ': 73}"
      ]
     },
     "execution_count": 26,
     "metadata": {},
     "output_type": "execute_result"
    }
   ],
   "source": [
    "vocab_dict = {v: k for k, v in enumerate(vocab_list)}\n",
    "vocab_dict"
   ]
  },
  {
   "cell_type": "code",
   "execution_count": 27,
   "metadata": {
    "id": "_8rXQ4QaQ4YW"
   },
   "outputs": [],
   "source": [
    "vocab_dict[\"|\"] = vocab_dict[\" \"]\n",
    "del vocab_dict[\" \"]"
   ]
  },
  {
   "cell_type": "code",
   "execution_count": 28,
   "metadata": {
    "colab": {
     "base_uri": "https://localhost:8080/"
    },
    "id": "FAiZWYcaQ4bE",
    "outputId": "76c6707f-b47f-429c-8758-0b83e3ac3f1c"
   },
   "outputs": [
    {
     "data": {
      "text/plain": [
       "76"
      ]
     },
     "execution_count": 28,
     "metadata": {},
     "output_type": "execute_result"
    }
   ],
   "source": [
    "vocab_dict[\"[UNK]\"] = len(vocab_dict)\n",
    "vocab_dict[\"[PAD]\"] = len(vocab_dict)\n",
    "len(vocab_dict)"
   ]
  },
  {
   "cell_type": "code",
   "execution_count": 29,
   "metadata": {
    "id": "BlNx-lABRTOF"
   },
   "outputs": [],
   "source": [
    "import json\n",
    "with open('vocab.json', 'w') as vocab_file:\n",
    "    json.dump(vocab_dict, vocab_file)"
   ]
  },
  {
   "cell_type": "code",
   "execution_count": 30,
   "metadata": {
    "id": "2x_6JQuSRUCD"
   },
   "outputs": [],
   "source": [
    "from transformers import Wav2Vec2CTCTokenizer\n",
    "\n",
    "tokenizer = Wav2Vec2CTCTokenizer(\"./vocab.json\", unk_token=\"[UNK]\", pad_token=\"[PAD]\", word_delimiter_token=\"|\")"
   ]
  },
  {
   "cell_type": "code",
   "execution_count": 31,
   "metadata": {
    "id": "xinqjsivRUEd"
   },
   "outputs": [],
   "source": [
    "from transformers import Wav2Vec2FeatureExtractor\n",
    "\n",
    "feature_extractor = Wav2Vec2FeatureExtractor(feature_size=1, sampling_rate=16000, padding_value=0.0, do_normalize=True, return_attention_mask=True)"
   ]
  },
  {
   "cell_type": "code",
   "execution_count": 32,
   "metadata": {
    "id": "FvUunNGsRUGy"
   },
   "outputs": [],
   "source": [
    "from transformers import Wav2Vec2Processor\n",
    "\n",
    "processor = Wav2Vec2Processor(feature_extractor=feature_extractor, tokenizer=tokenizer)"
   ]
  },
  {
   "cell_type": "code",
   "execution_count": 33,
   "metadata": {
    "colab": {
     "base_uri": "https://localhost:8080/"
    },
    "id": "FVSjvRGgzLbf",
    "outputId": "3302cd7a-cb3d-401e-c9df-6482dd0a0337"
   },
   "outputs": [
    {
     "data": {
      "text/plain": [
       "[]"
      ]
     },
     "execution_count": 33,
     "metadata": {},
     "output_type": "execute_result"
    }
   ],
   "source": [
    "processor.save_pretrained(r\"/content/drive/MyDrive/wav2vec2-large-xlsr-pa-IN\")\n"
   ]
  },
  {
   "cell_type": "code",
   "execution_count": 34,
   "metadata": {
    "colab": {
     "base_uri": "https://localhost:8080/"
    },
    "id": "i0Ai3RzJRUJB",
    "outputId": "38379773-107a-4f66-fc3c-eec06b335c6a"
   },
   "outputs": [
    {
     "data": {
      "text/plain": [
       "{'Transcript': 'ਬਾਬਾ ਫਰੀਦ ਨੇ ਰੱਬ ਦੀ ਭਗਤੀ ਕੀਤੀ ',\n",
       " 'text_id': 'A1_001',\n",
       " 'audio_path': '/content/drive/MyDrive/Training Data ASR/audio-20240314T063854Z-001/audio/A1/A1_001.wav'}"
      ]
     },
     "execution_count": 34,
     "metadata": {},
     "output_type": "execute_result"
    }
   ],
   "source": [
    "common_voice_train[0]"
   ]
  },
  {
   "cell_type": "code",
   "execution_count": 35,
   "metadata": {
    "id": "DKhcABa1Rnom"
   },
   "outputs": [],
   "source": [
    "import torchaudio\n",
    "\n",
    "def speech_file_to_array_fn(batch):\n",
    "    speech_array, sampling_rate = torchaudio.load(batch[\"audio_path\"])\n",
    "    batch[\"speech\"] = speech_array[0].numpy()\n",
    "    batch[\"sampling_rate\"] = sampling_rate\n",
    "    batch[\"target_text\"] = batch[\"Transcript\"]\n",
    "    return batch"
   ]
  },
  {
   "cell_type": "code",
   "execution_count": 35,
   "metadata": {
    "id": "licVwHNcURZS"
   },
   "outputs": [],
   "source": []
  },
  {
   "cell_type": "code",
   "execution_count": 35,
   "metadata": {
    "id": "Ux-wvqBx8MKv"
   },
   "outputs": [],
   "source": [
    "\n"
   ]
  },
  {
   "cell_type": "code",
   "execution_count": 35,
   "metadata": {
    "id": "N7F8_2xdBbPp"
   },
   "outputs": [],
   "source": []
  },
  {
   "cell_type": "code",
   "execution_count": 35,
   "metadata": {
    "id": "AY79bQ-e-O9f"
   },
   "outputs": [],
   "source": []
  },
  {
   "cell_type": "code",
   "execution_count": 35,
   "metadata": {
    "id": "QKSUM6Zr93b1"
   },
   "outputs": [],
   "source": [
    "\n",
    "\n"
   ]
  },
  {
   "cell_type": "code",
   "execution_count": 35,
   "metadata": {
    "id": "uiARU38k_A20"
   },
   "outputs": [],
   "source": []
  },
  {
   "cell_type": "code",
   "execution_count": 35,
   "metadata": {
    "id": "XsNUsislFG32"
   },
   "outputs": [],
   "source": []
  },
  {
   "cell_type": "code",
   "execution_count": 35,
   "metadata": {
    "id": "OBpGxTarRBTg"
   },
   "outputs": [],
   "source": []
  },
  {
   "cell_type": "code",
   "execution_count": 35,
   "metadata": {
    "id": "MW1q07d8RBfk"
   },
   "outputs": [],
   "source": []
  },
  {
   "cell_type": "markdown",
   "metadata": {
    "id": "u5wHlL3EINuT"
   },
   "source": []
  },
  {
   "cell_type": "code",
   "execution_count": 35,
   "metadata": {
    "id": "1roQsS_3DoYd"
   },
   "outputs": [],
   "source": []
  },
  {
   "cell_type": "code",
   "execution_count": 36,
   "metadata": {
    "id": "9yDFsox_Rnqy"
   },
   "outputs": [],
   "source": [
    "common_voice_train = common_voice_train.map(speech_file_to_array_fn, remove_columns=common_voice_train.column_names)\n",
    "common_voice_test = common_voice_test.map(speech_file_to_array_fn, remove_columns=common_voice_test.column_names)"
   ]
  },
  {
   "cell_type": "code",
   "execution_count": 36,
   "metadata": {
    "id": "9aEc7hUyDmdQ"
   },
   "outputs": [],
   "source": []
  },
  {
   "cell_type": "code",
   "execution_count": 36,
   "metadata": {
    "id": "rI6zGRu3Qx8D"
   },
   "outputs": [],
   "source": []
  },
  {
   "cell_type": "code",
   "execution_count": 37,
   "metadata": {
    "id": "vuZvB7JsRntT"
   },
   "outputs": [],
   "source": [
    "import librosa\n",
    "import numpy as np\n",
    "\n",
    "def resample(batch):\n",
    "    # Ensure audio data is a NumPy array\n",
    "    speech = np.asarray(batch[\"speech\"])\n",
    "\n",
    "    # Check if the original sampling rate is not already 16,000 Hz\n",
    "    if batch['sampling_rate'] != 16000:\n",
    "        # Resample the audio\n",
    "        resampled_speech = librosa.resample(speech, orig_sr=batch['sampling_rate'], target_sr=16000)\n",
    "\n",
    "        # Update batch with resampled data and sampling rate\n",
    "        batch[\"speech\"] = resampled_speech\n",
    "        batch[\"sampling_rate\"] = 16000\n",
    "\n",
    "    return batch\n"
   ]
  },
  {
   "cell_type": "code",
   "execution_count": 38,
   "metadata": {
    "id": "Ds4P4IFHRnv2"
   },
   "outputs": [],
   "source": [
    "common_voice_train = common_voice_train.map(resample, num_proc=2)\n",
    "common_voice_test = common_voice_test.map(resample, num_proc=2)"
   ]
  },
  {
   "cell_type": "code",
   "execution_count": 39,
   "metadata": {
    "colab": {
     "base_uri": "https://localhost:8080/",
     "height": 76
    },
    "id": "k1mWcHvrRnyG",
    "outputId": "e68dd019-3081-40a0-b732-7acbd486b68e"
   },
   "outputs": [
    {
     "data": {
      "text/html": [
       "\n",
       "                <audio  controls=\"controls\" autoplay=\"autoplay\">\n",
       "                    <source src=\"data:audio/wav;base64,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\" type=\"audio/wav\" />\n",
       "                    Your browser does not support the audio element.\n",
       "                </audio>\n",
       "              "
      ],
      "text/plain": [
       "<IPython.lib.display.Audio object>"
      ]
     },
     "execution_count": 39,
     "metadata": {},
     "output_type": "execute_result"
    }
   ],
   "source": [
    "import IPython.display as ipd\n",
    "import numpy as np\n",
    "import random\n",
    "\n",
    "rand_int = random.randint(0, len(common_voice_train)-1)\n",
    "\n",
    "ipd.Audio(data=np.asarray(common_voice_train[rand_int][\"speech\"]), autoplay=True, rate=16000)"
   ]
  },
  {
   "cell_type": "code",
   "execution_count": 40,
   "metadata": {
    "colab": {
     "base_uri": "https://localhost:8080/"
    },
    "id": "Lptk6G22UEe9",
    "outputId": "6788a946-33d3-4091-e359-628282829050"
   },
   "outputs": [
    {
     "name": "stdout",
     "output_type": "stream",
     "text": [
      "Target text: ਵਿਆਹ ਸਮੇਂ ਕਈ ਰਸਮਾਂ ਨਿਭਾਈਆਂ ਜਾਂਦੀਆਂ ਹਨ \n",
      "Input array shape: (70400,)\n",
      "Sampling rate: 16000\n"
     ]
    }
   ],
   "source": [
    "rand_int = random.randint(0, len(common_voice_train)-1)\n",
    "\n",
    "print(\"Target text:\", common_voice_train[rand_int][\"target_text\"])\n",
    "print(\"Input array shape:\", np.asarray(common_voice_train[rand_int][\"speech\"]).shape)\n",
    "print(\"Sampling rate:\", common_voice_train[rand_int][\"sampling_rate\"])"
   ]
  },
  {
   "cell_type": "code",
   "execution_count": 41,
   "metadata": {
    "id": "1ixFT8a7UEhh"
   },
   "outputs": [],
   "source": [
    "def prepare_dataset(batch):\n",
    "    # check that all files have the correct sampling rate\n",
    "    assert (\n",
    "        len(set(batch[\"sampling_rate\"])) == 1\n",
    "    ), f\"Make sure all inputs have the same sampling rate of {processor.feature_extractor.sampling_rate}.\"\n",
    "\n",
    "    batch[\"input_values\"] = processor(batch[\"speech\"], sampling_rate=batch[\"sampling_rate\"][0]).input_values\n",
    "\n",
    "    with processor.as_target_processor():\n",
    "        batch[\"labels\"] = processor(batch[\"target_text\"]).input_ids\n",
    "    return batch"
   ]
  },
  {
   "cell_type": "code",
   "execution_count": 41,
   "metadata": {
    "id": "mEcIamb4a8KF"
   },
   "outputs": [],
   "source": []
  },
  {
   "cell_type": "code",
   "execution_count": 41,
   "metadata": {
    "id": "21NpXeX2dY9y"
   },
   "outputs": [],
   "source": []
  },
  {
   "cell_type": "code",
   "execution_count": 42,
   "metadata": {
    "colab": {
     "base_uri": "https://localhost:8080/",
     "height": 379,
     "referenced_widgets": [
      "2107bc6e36e2467bb9d956d5b0f709f3",
      "7dc912a04ffa4f158946701732302190",
      "32fd72d5d3d14317837cc2889e6bc3fa",
      "1ae668d667d34ef7ab5e96b08cb83c83",
      "28c9e4ca4970469da713929ca1f775db",
      "8339a0edb8b7477d89bd94d1d7eb8acb",
      "fb819e9f305d4f3fbede0b86b3bdec8a",
      "045ad7c6d2b542e9afb8079a835bf51b",
      "6faa720c91c845e89acfb786280aea78",
      "ec3286a29fdf4df88c24fa7bbe599212",
      "90844f2870464040aaa7852d3853fbc5",
      "dc66ef43d35141d3bd2aedb684fc524e",
      "1737b85d843842f09c4f7a269ce60a2f",
      "14086bf8cd4641049436d0f218f9516b",
      "a9eb1b80468540499021eefbed8114e9",
      "99da8568c07948b98377da49dbe6fc26",
      "293940abac6d4a7093ca05a1699774ea",
      "4396853163fe4ccf9e8cafbc779459d5",
      "e851d64f7dcf4d8f93c6c88e68ed12ff",
      "b0c3065fe8934e419826290004082185",
      "ec7ec47c4824413c97e9c693507b2dff",
      "1e1e1ac1a1bd4f3387e05fa30e3f0fa1"
     ]
    },
    "id": "LQYnrNXtUEkE",
    "outputId": "ecbcb84f-1460-412c-dd28-a92f60f31ad9"
   },
   "outputs": [
    {
     "data": {
      "application/vnd.jupyter.widget-view+json": {
       "model_id": "2107bc6e36e2467bb9d956d5b0f709f3",
       "version_major": 2,
       "version_minor": 0
      },
      "text/plain": [
       "Map (num_proc=4):   0%|          | 0/12540 [00:00<?, ? examples/s]"
      ]
     },
     "metadata": {},
     "output_type": "display_data"
    },
    {
     "name": "stderr",
     "output_type": "stream",
     "text": [
      "/usr/local/lib/python3.10/dist-packages/transformers/models/wav2vec2/processing_wav2vec2.py:156: UserWarning: `as_target_processor` is deprecated and will be removed in v5 of Transformers. You can process your labels by using the argument `text` of the regular `__call__` method (either in the same call as your audio inputs, or in a separate call.\n",
      "  warnings.warn(\n",
      "/usr/local/lib/python3.10/dist-packages/transformers/models/wav2vec2/processing_wav2vec2.py:156: UserWarning: `as_target_processor` is deprecated and will be removed in v5 of Transformers. You can process your labels by using the argument `text` of the regular `__call__` method (either in the same call as your audio inputs, or in a separate call.\n",
      "  warnings.warn(\n",
      "/usr/local/lib/python3.10/dist-packages/transformers/models/wav2vec2/processing_wav2vec2.py:156: UserWarning: `as_target_processor` is deprecated and will be removed in v5 of Transformers. You can process your labels by using the argument `text` of the regular `__call__` method (either in the same call as your audio inputs, or in a separate call.\n",
      "  warnings.warn(\n",
      "/usr/local/lib/python3.10/dist-packages/transformers/models/wav2vec2/processing_wav2vec2.py:156: UserWarning: `as_target_processor` is deprecated and will be removed in v5 of Transformers. You can process your labels by using the argument `text` of the regular `__call__` method (either in the same call as your audio inputs, or in a separate call.\n",
      "  warnings.warn(\n"
     ]
    },
    {
     "data": {
      "application/vnd.jupyter.widget-view+json": {
       "model_id": "dc66ef43d35141d3bd2aedb684fc524e",
       "version_major": 2,
       "version_minor": 0
      },
      "text/plain": [
       "Map (num_proc=4):   0%|          | 0/3103 [00:00<?, ? examples/s]"
      ]
     },
     "metadata": {},
     "output_type": "display_data"
    },
    {
     "name": "stderr",
     "output_type": "stream",
     "text": [
      "/usr/local/lib/python3.10/dist-packages/transformers/models/wav2vec2/processing_wav2vec2.py:156: UserWarning: `as_target_processor` is deprecated and will be removed in v5 of Transformers. You can process your labels by using the argument `text` of the regular `__call__` method (either in the same call as your audio inputs, or in a separate call.\n",
      "  warnings.warn(\n",
      "/usr/local/lib/python3.10/dist-packages/transformers/models/wav2vec2/processing_wav2vec2.py:156: UserWarning: `as_target_processor` is deprecated and will be removed in v5 of Transformers. You can process your labels by using the argument `text` of the regular `__call__` method (either in the same call as your audio inputs, or in a separate call.\n",
      "  warnings.warn(\n",
      "/usr/local/lib/python3.10/dist-packages/transformers/models/wav2vec2/processing_wav2vec2.py:156: UserWarning: `as_target_processor` is deprecated and will be removed in v5 of Transformers. You can process your labels by using the argument `text` of the regular `__call__` method (either in the same call as your audio inputs, or in a separate call.\n",
      "  warnings.warn(\n",
      "/usr/local/lib/python3.10/dist-packages/transformers/models/wav2vec2/processing_wav2vec2.py:156: UserWarning: `as_target_processor` is deprecated and will be removed in v5 of Transformers. You can process your labels by using the argument `text` of the regular `__call__` method (either in the same call as your audio inputs, or in a separate call.\n",
      "  warnings.warn(\n"
     ]
    }
   ],
   "source": [
    "common_voice_train = common_voice_train.map(prepare_dataset, remove_columns=common_voice_train.column_names, batch_size=8, num_proc=4, batched=True)\n",
    "common_voice_test = common_voice_test.map(prepare_dataset, remove_columns=common_voice_test.column_names, batch_size=8, num_proc=4, batched=True)"
   ]
  },
  {
   "cell_type": "code",
   "execution_count": 43,
   "metadata": {
    "id": "dU6GisXSWshf"
   },
   "outputs": [],
   "source": [
    "df1 = common_voice_train.to_pandas()\n",
    "df1.to_csv('final_voice_train_label1', index=False)\n"
   ]
  },
  {
   "cell_type": "code",
   "execution_count": 44,
   "metadata": {
    "id": "V2wEnOsXXxkf"
   },
   "outputs": [],
   "source": [
    "df1 = common_voice_test.to_pandas()\n",
    "df1.to_csv('final_voice_test_label1', index=False)\n"
   ]
  },
  {
   "cell_type": "code",
   "execution_count": 44,
   "metadata": {
    "id": "Vvv9kORTXxoB"
   },
   "outputs": [],
   "source": []
  },
  {
   "cell_type": "code",
   "execution_count": 45,
   "metadata": {
    "id": "AWIr8eg0UEmk"
   },
   "outputs": [],
   "source": [
    "import torch\n",
    "\n",
    "from dataclasses import dataclass, field\n",
    "from typing import Any, Dict, List, Optional, Union\n",
    "\n",
    "@dataclass\n",
    "class DataCollatorCTCWithPadding:\n",
    "    \"\"\"\n",
    "    Data collator that will dynamically pad the inputs received.\n",
    "    Args:\n",
    "        processor (:class:`~transformers.Wav2Vec2Processor`)\n",
    "            The processor used for proccessing the data.\n",
    "        padding (:obj:`bool`, :obj:`str` or :class:`~transformers.tokenization_utils_base.PaddingStrategy`, `optional`, defaults to :obj:`True`):\n",
    "            Select a strategy to pad the returned sequences (according to the model's padding side and padding index)\n",
    "            among:\n",
    "            * :obj:`True` or :obj:`'longest'`: Pad to the longest sequence in the batch (or no padding if only a single\n",
    "              sequence if provided).\n",
    "            * :obj:`'max_length'`: Pad to a maximum length specified with the argument :obj:`max_length` or to the\n",
    "              maximum acceptable input length for the model if that argument is not provided.\n",
    "            * :obj:`False` or :obj:`'do_not_pad'` (default): No padding (i.e., can output a batch with sequences of\n",
    "              different lengths).\n",
    "        max_length (:obj:`int`, `optional`):\n",
    "            Maximum length of the ``input_values`` of the returned list and optionally padding length (see above).\n",
    "        max_length_labels (:obj:`int`, `optional`):\n",
    "            Maximum length of the ``labels`` returned list and optionally padding length (see above).\n",
    "        pad_to_multiple_of (:obj:`int`, `optional`):\n",
    "            If set will pad the sequence to a multiple of the provided value.\n",
    "            This is especially useful to enable the use of Tensor Cores on NVIDIA hardware with compute capability >=\n",
    "            7.5 (Volta).\n",
    "    \"\"\"\n",
    "\n",
    "    processor: Wav2Vec2Processor\n",
    "    padding: Union[bool, str] = True\n",
    "    max_length: Optional[int] = None\n",
    "    max_length_labels: Optional[int] = None\n",
    "    pad_to_multiple_of: Optional[int] = None\n",
    "    pad_to_multiple_of_labels: Optional[int] = None\n",
    "\n",
    "    def __call__(self, features: List[Dict[str, Union[List[int], torch.Tensor]]]) -> Dict[str, torch.Tensor]:\n",
    "        # split inputs and labels since they have to be of different lenghts and need\n",
    "        # different padding methods\n",
    "        input_features = [{\"input_values\": feature[\"input_values\"]} for feature in features]\n",
    "        label_features = [{\"input_ids\": feature[\"labels\"]} for feature in features]\n",
    "\n",
    "        batch = self.processor.pad(\n",
    "            input_features,\n",
    "            padding=self.padding,\n",
    "            max_length=self.max_length,\n",
    "            pad_to_multiple_of=self.pad_to_multiple_of,\n",
    "            return_tensors=\"pt\",\n",
    "        )\n",
    "        with self.processor.as_target_processor():\n",
    "            labels_batch = self.processor.pad(\n",
    "                label_features,\n",
    "                padding=self.padding,\n",
    "                max_length=self.max_length_labels,\n",
    "                pad_to_multiple_of=self.pad_to_multiple_of_labels,\n",
    "                return_tensors=\"pt\",\n",
    "            )\n",
    "\n",
    "        # replace padding with -100 to ignore loss correctly\n",
    "        labels = labels_batch[\"input_ids\"].masked_fill(labels_batch.attention_mask.ne(1), -100)\n",
    "\n",
    "        batch[\"labels\"] = labels\n",
    "\n",
    "        return batch"
   ]
  },
  {
   "cell_type": "code",
   "execution_count": 46,
   "metadata": {
    "id": "BRuRzTgJUEp-"
   },
   "outputs": [],
   "source": [
    "data_collator = DataCollatorCTCWithPadding(processor=processor, padding=True)"
   ]
  },
  {
   "cell_type": "code",
   "execution_count": 47,
   "metadata": {
    "colab": {
     "base_uri": "https://localhost:8080/"
    },
    "id": "IwtuGNKKUEsr",
    "outputId": "4f83bc00-53e9-430c-b5c7-dcff2a3d81a1"
   },
   "outputs": [
    {
     "name": "stderr",
     "output_type": "stream",
     "text": [
      "<ipython-input-47-7b292a9c8d88>:2: FutureWarning: load_metric is deprecated and will be removed in the next major version of datasets. Use 'evaluate.load' instead, from the new library 🤗 Evaluate: https://huggingface.co/docs/evaluate\n",
      "  wer_metric = load_metric(\"wer\")\n",
      "/usr/local/lib/python3.10/dist-packages/datasets/load.py:756: FutureWarning: The repository for wer contains custom code which must be executed to correctly load the metric. You can inspect the repository content at https://raw.githubusercontent.com/huggingface/datasets/2.18.0/metrics/wer/wer.py\n",
      "You can avoid this message in future by passing the argument `trust_remote_code=True`.\n",
      "Passing `trust_remote_code=True` will be mandatory to load this metric from the next major release of `datasets`.\n",
      "  warnings.warn(\n"
     ]
    }
   ],
   "source": [
    "from datasets import load_metric\n",
    "wer_metric = load_metric(\"wer\")"
   ]
  },
  {
   "cell_type": "code",
   "execution_count": 48,
   "metadata": {
    "id": "tuDj12TrUEvm"
   },
   "outputs": [],
   "source": [
    "def compute_metrics(pred):\n",
    "    pred_logits = pred.predictions\n",
    "    pred_ids = np.argmax(pred_logits, axis=-1)\n",
    "\n",
    "    pred.label_ids[pred.label_ids == -100] = processor.tokenizer.pad_token_id\n",
    "\n",
    "    pred_str = processor.batch_decode(pred_ids)\n",
    "    # we do not want to group tokens when computing the metrics\n",
    "    label_str = processor.batch_decode(pred.label_ids, group_tokens=False)\n",
    "\n",
    "    wer = wer_metric.compute(predictions=pred_str, references=label_str)\n",
    "\n",
    "    return {\"wer\": wer}"
   ]
  },
  {
   "cell_type": "code",
   "execution_count": 49,
   "metadata": {
    "colab": {
     "base_uri": "https://localhost:8080/"
    },
    "id": "XXoLxa2pUEyO",
    "outputId": "df97ef57-aab0-4dcf-b16f-c47ddabbd973"
   },
   "outputs": [
    {
     "name": "stderr",
     "output_type": "stream",
     "text": [
      "/usr/local/lib/python3.10/dist-packages/huggingface_hub/utils/_token.py:88: UserWarning: \n",
      "The secret `HF_TOKEN` does not exist in your Colab secrets.\n",
      "To authenticate with the Hugging Face Hub, create a token in your settings tab (https://huggingface.co/settings/tokens), set it as secret in your Google Colab and restart your session.\n",
      "You will be able to reuse this secret in all of your notebooks.\n",
      "Please note that authentication is recommended but still optional to access public models or datasets.\n",
      "  warnings.warn(\n",
      "Some weights of Wav2Vec2ForCTC were not initialized from the model checkpoint at facebook/wav2vec2-large-xlsr-53 and are newly initialized: ['lm_head.bias', 'lm_head.weight', 'wav2vec2.encoder.pos_conv_embed.conv.parametrizations.weight.original0', 'wav2vec2.encoder.pos_conv_embed.conv.parametrizations.weight.original1']\n",
      "You should probably TRAIN this model on a down-stream task to be able to use it for predictions and inference.\n"
     ]
    }
   ],
   "source": [
    "from transformers import Wav2Vec2ForCTC\n",
    "\n",
    "model = Wav2Vec2ForCTC.from_pretrained(\n",
    "    \"facebook/wav2vec2-large-xlsr-53\",\n",
    "    attention_dropout=0.1,\n",
    "    hidden_dropout=0.1,\n",
    "    feat_proj_dropout=0.0,\n",
    "    mask_time_prob=0.05,\n",
    "    layerdrop=0.1,\n",
    "    gradient_checkpointing=True,\n",
    "    ctc_loss_reduction=\"mean\",\n",
    "    pad_token_id=processor.tokenizer.pad_token_id,\n",
    "    vocab_size=len(processor.tokenizer)\n",
    ")"
   ]
  },
  {
   "cell_type": "code",
   "execution_count": 50,
   "metadata": {
    "colab": {
     "base_uri": "https://localhost:8080/"
    },
    "id": "wE6UN-GsUE02",
    "outputId": "86c4e82c-48b8-4eed-909f-497aa1f17537"
   },
   "outputs": [
    {
     "name": "stderr",
     "output_type": "stream",
     "text": [
      "/usr/local/lib/python3.10/dist-packages/transformers/models/wav2vec2/modeling_wav2vec2.py:1920: FutureWarning: The method `freeze_feature_extractor` is deprecated and will be removed in Transformers v5. Please use the equivalent `freeze_feature_encoder` method instead.\n",
      "  warnings.warn(\n"
     ]
    }
   ],
   "source": [
    "model.freeze_feature_extractor()"
   ]
  },
  {
   "cell_type": "code",
   "execution_count": 51,
   "metadata": {
    "colab": {
     "base_uri": "https://localhost:8080/"
    },
    "id": "hZQibC60zgRr",
    "outputId": "3a1acc25-4ffb-42be-9a15-068b49d1464e"
   },
   "outputs": [
    {
     "name": "stdout",
     "output_type": "stream",
     "text": [
      "Requirement already satisfied: accelerate in /usr/local/lib/python3.10/dist-packages (0.28.0)\n",
      "Requirement already satisfied: numpy>=1.17 in /usr/local/lib/python3.10/dist-packages (from accelerate) (1.25.2)\n",
      "Requirement already satisfied: packaging>=20.0 in /usr/local/lib/python3.10/dist-packages (from accelerate) (24.0)\n",
      "Requirement already satisfied: psutil in /usr/local/lib/python3.10/dist-packages (from accelerate) (5.9.5)\n",
      "Requirement already satisfied: pyyaml in /usr/local/lib/python3.10/dist-packages (from accelerate) (6.0.1)\n",
      "Requirement already satisfied: torch>=1.10.0 in /usr/local/lib/python3.10/dist-packages (from accelerate) (2.2.1+cu121)\n",
      "Requirement already satisfied: huggingface-hub in /usr/local/lib/python3.10/dist-packages (from accelerate) (0.20.3)\n",
      "Requirement already satisfied: safetensors>=0.3.1 in /usr/local/lib/python3.10/dist-packages (from accelerate) (0.4.2)\n",
      "Requirement already satisfied: filelock in /usr/local/lib/python3.10/dist-packages (from torch>=1.10.0->accelerate) (3.13.3)\n",
      "Requirement already satisfied: typing-extensions>=4.8.0 in /usr/local/lib/python3.10/dist-packages (from torch>=1.10.0->accelerate) (4.10.0)\n",
      "Requirement already satisfied: sympy in /usr/local/lib/python3.10/dist-packages (from torch>=1.10.0->accelerate) (1.12)\n",
      "Requirement already satisfied: networkx in /usr/local/lib/python3.10/dist-packages (from torch>=1.10.0->accelerate) (3.2.1)\n",
      "Requirement already satisfied: jinja2 in /usr/local/lib/python3.10/dist-packages (from torch>=1.10.0->accelerate) (3.1.3)\n",
      "Requirement already satisfied: fsspec in /usr/local/lib/python3.10/dist-packages (from torch>=1.10.0->accelerate) (2023.6.0)\n",
      "Requirement already satisfied: nvidia-cuda-nvrtc-cu12==12.1.105 in /usr/local/lib/python3.10/dist-packages (from torch>=1.10.0->accelerate) (12.1.105)\n",
      "Requirement already satisfied: nvidia-cuda-runtime-cu12==12.1.105 in /usr/local/lib/python3.10/dist-packages (from torch>=1.10.0->accelerate) (12.1.105)\n",
      "Requirement already satisfied: nvidia-cuda-cupti-cu12==12.1.105 in /usr/local/lib/python3.10/dist-packages (from torch>=1.10.0->accelerate) (12.1.105)\n",
      "Requirement already satisfied: nvidia-cudnn-cu12==8.9.2.26 in /usr/local/lib/python3.10/dist-packages (from torch>=1.10.0->accelerate) (8.9.2.26)\n",
      "Requirement already satisfied: nvidia-cublas-cu12==12.1.3.1 in /usr/local/lib/python3.10/dist-packages (from torch>=1.10.0->accelerate) (12.1.3.1)\n",
      "Requirement already satisfied: nvidia-cufft-cu12==11.0.2.54 in /usr/local/lib/python3.10/dist-packages (from torch>=1.10.0->accelerate) (11.0.2.54)\n",
      "Requirement already satisfied: nvidia-curand-cu12==10.3.2.106 in /usr/local/lib/python3.10/dist-packages (from torch>=1.10.0->accelerate) (10.3.2.106)\n",
      "Requirement already satisfied: nvidia-cusolver-cu12==11.4.5.107 in /usr/local/lib/python3.10/dist-packages (from torch>=1.10.0->accelerate) (11.4.5.107)\n",
      "Requirement already satisfied: nvidia-cusparse-cu12==12.1.0.106 in /usr/local/lib/python3.10/dist-packages (from torch>=1.10.0->accelerate) (12.1.0.106)\n",
      "Requirement already satisfied: nvidia-nccl-cu12==2.19.3 in /usr/local/lib/python3.10/dist-packages (from torch>=1.10.0->accelerate) (2.19.3)\n",
      "Requirement already satisfied: nvidia-nvtx-cu12==12.1.105 in /usr/local/lib/python3.10/dist-packages (from torch>=1.10.0->accelerate) (12.1.105)\n",
      "Requirement already satisfied: triton==2.2.0 in /usr/local/lib/python3.10/dist-packages (from torch>=1.10.0->accelerate) (2.2.0)\n",
      "Requirement already satisfied: nvidia-nvjitlink-cu12 in /usr/local/lib/python3.10/dist-packages (from nvidia-cusolver-cu12==11.4.5.107->torch>=1.10.0->accelerate) (12.4.99)\n",
      "Requirement already satisfied: requests in /usr/local/lib/python3.10/dist-packages (from huggingface-hub->accelerate) (2.31.0)\n",
      "Requirement already satisfied: tqdm>=4.42.1 in /usr/local/lib/python3.10/dist-packages (from huggingface-hub->accelerate) (4.66.2)\n",
      "Requirement already satisfied: MarkupSafe>=2.0 in /usr/local/lib/python3.10/dist-packages (from jinja2->torch>=1.10.0->accelerate) (2.1.5)\n",
      "Requirement already satisfied: charset-normalizer<4,>=2 in /usr/local/lib/python3.10/dist-packages (from requests->huggingface-hub->accelerate) (3.3.2)\n",
      "Requirement already satisfied: idna<4,>=2.5 in /usr/local/lib/python3.10/dist-packages (from requests->huggingface-hub->accelerate) (3.6)\n",
      "Requirement already satisfied: urllib3<3,>=1.21.1 in /usr/local/lib/python3.10/dist-packages (from requests->huggingface-hub->accelerate) (2.0.7)\n",
      "Requirement already satisfied: certifi>=2017.4.17 in /usr/local/lib/python3.10/dist-packages (from requests->huggingface-hub->accelerate) (2024.2.2)\n",
      "Requirement already satisfied: mpmath>=0.19 in /usr/local/lib/python3.10/dist-packages (from sympy->torch>=1.10.0->accelerate) (1.3.0)\n"
     ]
    }
   ],
   "source": [
    "!pip install --upgrade accelerate"
   ]
  },
  {
   "cell_type": "code",
   "execution_count": 52,
   "metadata": {
    "colab": {
     "base_uri": "https://localhost:8080/"
    },
    "id": "tAlltf--XPUU",
    "outputId": "f5aa9f55-aa22-4a0e-93d8-f33d8a4c33c1"
   },
   "outputs": [
    {
     "name": "stdout",
     "output_type": "stream",
     "text": [
      "Requirement already satisfied: transformers in /usr/local/lib/python3.10/dist-packages (4.39.2)\n",
      "Requirement already satisfied: filelock in /usr/local/lib/python3.10/dist-packages (from transformers) (3.13.3)\n",
      "Requirement already satisfied: huggingface-hub<1.0,>=0.19.3 in /usr/local/lib/python3.10/dist-packages (from transformers) (0.20.3)\n",
      "Requirement already satisfied: numpy>=1.17 in /usr/local/lib/python3.10/dist-packages (from transformers) (1.25.2)\n",
      "Requirement already satisfied: packaging>=20.0 in /usr/local/lib/python3.10/dist-packages (from transformers) (24.0)\n",
      "Requirement already satisfied: pyyaml>=5.1 in /usr/local/lib/python3.10/dist-packages (from transformers) (6.0.1)\n",
      "Requirement already satisfied: regex!=2019.12.17 in /usr/local/lib/python3.10/dist-packages (from transformers) (2023.12.25)\n",
      "Requirement already satisfied: requests in /usr/local/lib/python3.10/dist-packages (from transformers) (2.31.0)\n",
      "Requirement already satisfied: tokenizers<0.19,>=0.14 in /usr/local/lib/python3.10/dist-packages (from transformers) (0.15.2)\n",
      "Requirement already satisfied: safetensors>=0.4.1 in /usr/local/lib/python3.10/dist-packages (from transformers) (0.4.2)\n",
      "Requirement already satisfied: tqdm>=4.27 in /usr/local/lib/python3.10/dist-packages (from transformers) (4.66.2)\n",
      "Requirement already satisfied: fsspec>=2023.5.0 in /usr/local/lib/python3.10/dist-packages (from huggingface-hub<1.0,>=0.19.3->transformers) (2023.6.0)\n",
      "Requirement already satisfied: typing-extensions>=3.7.4.3 in /usr/local/lib/python3.10/dist-packages (from huggingface-hub<1.0,>=0.19.3->transformers) (4.10.0)\n",
      "Requirement already satisfied: charset-normalizer<4,>=2 in /usr/local/lib/python3.10/dist-packages (from requests->transformers) (3.3.2)\n",
      "Requirement already satisfied: idna<4,>=2.5 in /usr/local/lib/python3.10/dist-packages (from requests->transformers) (3.6)\n",
      "Requirement already satisfied: urllib3<3,>=1.21.1 in /usr/local/lib/python3.10/dist-packages (from requests->transformers) (2.0.7)\n",
      "Requirement already satisfied: certifi>=2017.4.17 in /usr/local/lib/python3.10/dist-packages (from requests->transformers) (2024.2.2)\n"
     ]
    }
   ],
   "source": [
    "!pip install --upgrade transformers"
   ]
  },
  {
   "cell_type": "code",
   "execution_count": 53,
   "metadata": {
    "colab": {
     "base_uri": "https://localhost:8080/"
    },
    "id": "phVeN7ovXZxS",
    "outputId": "0f4a983e-2637-4f41-b1ae-4e60af93a8b2"
   },
   "outputs": [
    {
     "name": "stdout",
     "output_type": "stream",
     "text": [
      "Requirement already satisfied: transformers[torch] in /usr/local/lib/python3.10/dist-packages (4.39.2)\n",
      "Requirement already satisfied: filelock in /usr/local/lib/python3.10/dist-packages (from transformers[torch]) (3.13.3)\n",
      "Requirement already satisfied: huggingface-hub<1.0,>=0.19.3 in /usr/local/lib/python3.10/dist-packages (from transformers[torch]) (0.20.3)\n",
      "Requirement already satisfied: numpy>=1.17 in /usr/local/lib/python3.10/dist-packages (from transformers[torch]) (1.25.2)\n",
      "Requirement already satisfied: packaging>=20.0 in /usr/local/lib/python3.10/dist-packages (from transformers[torch]) (24.0)\n",
      "Requirement already satisfied: pyyaml>=5.1 in /usr/local/lib/python3.10/dist-packages (from transformers[torch]) (6.0.1)\n",
      "Requirement already satisfied: regex!=2019.12.17 in /usr/local/lib/python3.10/dist-packages (from transformers[torch]) (2023.12.25)\n",
      "Requirement already satisfied: requests in /usr/local/lib/python3.10/dist-packages (from transformers[torch]) (2.31.0)\n",
      "Requirement already satisfied: tokenizers<0.19,>=0.14 in /usr/local/lib/python3.10/dist-packages (from transformers[torch]) (0.15.2)\n",
      "Requirement already satisfied: safetensors>=0.4.1 in /usr/local/lib/python3.10/dist-packages (from transformers[torch]) (0.4.2)\n",
      "Requirement already satisfied: tqdm>=4.27 in /usr/local/lib/python3.10/dist-packages (from transformers[torch]) (4.66.2)\n",
      "Requirement already satisfied: torch in /usr/local/lib/python3.10/dist-packages (from transformers[torch]) (2.2.1+cu121)\n",
      "Requirement already satisfied: accelerate>=0.21.0 in /usr/local/lib/python3.10/dist-packages (from transformers[torch]) (0.28.0)\n",
      "Requirement already satisfied: psutil in /usr/local/lib/python3.10/dist-packages (from accelerate>=0.21.0->transformers[torch]) (5.9.5)\n",
      "Requirement already satisfied: fsspec>=2023.5.0 in /usr/local/lib/python3.10/dist-packages (from huggingface-hub<1.0,>=0.19.3->transformers[torch]) (2023.6.0)\n",
      "Requirement already satisfied: typing-extensions>=3.7.4.3 in /usr/local/lib/python3.10/dist-packages (from huggingface-hub<1.0,>=0.19.3->transformers[torch]) (4.10.0)\n",
      "Requirement already satisfied: sympy in /usr/local/lib/python3.10/dist-packages (from torch->transformers[torch]) (1.12)\n",
      "Requirement already satisfied: networkx in /usr/local/lib/python3.10/dist-packages (from torch->transformers[torch]) (3.2.1)\n",
      "Requirement already satisfied: jinja2 in /usr/local/lib/python3.10/dist-packages (from torch->transformers[torch]) (3.1.3)\n",
      "Requirement already satisfied: nvidia-cuda-nvrtc-cu12==12.1.105 in /usr/local/lib/python3.10/dist-packages (from torch->transformers[torch]) (12.1.105)\n",
      "Requirement already satisfied: nvidia-cuda-runtime-cu12==12.1.105 in /usr/local/lib/python3.10/dist-packages (from torch->transformers[torch]) (12.1.105)\n",
      "Requirement already satisfied: nvidia-cuda-cupti-cu12==12.1.105 in /usr/local/lib/python3.10/dist-packages (from torch->transformers[torch]) (12.1.105)\n",
      "Requirement already satisfied: nvidia-cudnn-cu12==8.9.2.26 in /usr/local/lib/python3.10/dist-packages (from torch->transformers[torch]) (8.9.2.26)\n",
      "Requirement already satisfied: nvidia-cublas-cu12==12.1.3.1 in /usr/local/lib/python3.10/dist-packages (from torch->transformers[torch]) (12.1.3.1)\n",
      "Requirement already satisfied: nvidia-cufft-cu12==11.0.2.54 in /usr/local/lib/python3.10/dist-packages (from torch->transformers[torch]) (11.0.2.54)\n",
      "Requirement already satisfied: nvidia-curand-cu12==10.3.2.106 in /usr/local/lib/python3.10/dist-packages (from torch->transformers[torch]) (10.3.2.106)\n",
      "Requirement already satisfied: nvidia-cusolver-cu12==11.4.5.107 in /usr/local/lib/python3.10/dist-packages (from torch->transformers[torch]) (11.4.5.107)\n",
      "Requirement already satisfied: nvidia-cusparse-cu12==12.1.0.106 in /usr/local/lib/python3.10/dist-packages (from torch->transformers[torch]) (12.1.0.106)\n",
      "Requirement already satisfied: nvidia-nccl-cu12==2.19.3 in /usr/local/lib/python3.10/dist-packages (from torch->transformers[torch]) (2.19.3)\n",
      "Requirement already satisfied: nvidia-nvtx-cu12==12.1.105 in /usr/local/lib/python3.10/dist-packages (from torch->transformers[torch]) (12.1.105)\n",
      "Requirement already satisfied: triton==2.2.0 in /usr/local/lib/python3.10/dist-packages (from torch->transformers[torch]) (2.2.0)\n",
      "Requirement already satisfied: nvidia-nvjitlink-cu12 in /usr/local/lib/python3.10/dist-packages (from nvidia-cusolver-cu12==11.4.5.107->torch->transformers[torch]) (12.4.99)\n",
      "Requirement already satisfied: charset-normalizer<4,>=2 in /usr/local/lib/python3.10/dist-packages (from requests->transformers[torch]) (3.3.2)\n",
      "Requirement already satisfied: idna<4,>=2.5 in /usr/local/lib/python3.10/dist-packages (from requests->transformers[torch]) (3.6)\n",
      "Requirement already satisfied: urllib3<3,>=1.21.1 in /usr/local/lib/python3.10/dist-packages (from requests->transformers[torch]) (2.0.7)\n",
      "Requirement already satisfied: certifi>=2017.4.17 in /usr/local/lib/python3.10/dist-packages (from requests->transformers[torch]) (2024.2.2)\n",
      "Requirement already satisfied: MarkupSafe>=2.0 in /usr/local/lib/python3.10/dist-packages (from jinja2->torch->transformers[torch]) (2.1.5)\n",
      "Requirement already satisfied: mpmath>=0.19 in /usr/local/lib/python3.10/dist-packages (from sympy->torch->transformers[torch]) (1.3.0)\n"
     ]
    }
   ],
   "source": [
    "!pip install transformers[torch]"
   ]
  },
  {
   "cell_type": "code",
   "execution_count": 54,
   "metadata": {
    "id": "JvI6k5EiUE3T"
   },
   "outputs": [],
   "source": [
    "from transformers import TrainingArguments\n",
    "\n",
    "training_args = TrainingArguments(\n",
    "  output_dir=r\"/content/drive/MyDrive/wav2vec2-large-xlsr-pa-IN\",\n",
    "  group_by_length=True,\n",
    "  per_device_train_batch_size=32,\n",
    "  gradient_accumulation_steps=2,\n",
    "  evaluation_strategy=\"steps\",\n",
    "  num_train_epochs=200,\n",
    "  fp16=True,\n",
    "  save_steps=500,\n",
    "  eval_steps=500,\n",
    "  logging_steps=500,\n",
    "  learning_rate=3e-4,\n",
    "  warmup_steps=500,\n",
    "  save_total_limit=2,\n",
    "  load_best_model_at_end=True,  # Load the best checkpoint at the end of training\n",
    ")"
   ]
  },
  {
   "cell_type": "code",
   "execution_count": 55,
   "metadata": {
    "colab": {
     "base_uri": "https://localhost:8080/"
    },
    "id": "sFhZZq-xG3Q0",
    "outputId": "276cf790-7469-4039-a993-5eb6d4c7eaff"
   },
   "outputs": [
    {
     "name": "stdout",
     "output_type": "stream",
     "text": [
      "Requirement already satisfied: transformers in /usr/local/lib/python3.10/dist-packages (4.39.2)\n",
      "Requirement already satisfied: filelock in /usr/local/lib/python3.10/dist-packages (from transformers) (3.13.3)\n",
      "Requirement already satisfied: huggingface-hub<1.0,>=0.19.3 in /usr/local/lib/python3.10/dist-packages (from transformers) (0.20.3)\n",
      "Requirement already satisfied: numpy>=1.17 in /usr/local/lib/python3.10/dist-packages (from transformers) (1.25.2)\n",
      "Requirement already satisfied: packaging>=20.0 in /usr/local/lib/python3.10/dist-packages (from transformers) (24.0)\n",
      "Requirement already satisfied: pyyaml>=5.1 in /usr/local/lib/python3.10/dist-packages (from transformers) (6.0.1)\n",
      "Requirement already satisfied: regex!=2019.12.17 in /usr/local/lib/python3.10/dist-packages (from transformers) (2023.12.25)\n",
      "Requirement already satisfied: requests in /usr/local/lib/python3.10/dist-packages (from transformers) (2.31.0)\n",
      "Requirement already satisfied: tokenizers<0.19,>=0.14 in /usr/local/lib/python3.10/dist-packages (from transformers) (0.15.2)\n",
      "Requirement already satisfied: safetensors>=0.4.1 in /usr/local/lib/python3.10/dist-packages (from transformers) (0.4.2)\n",
      "Requirement already satisfied: tqdm>=4.27 in /usr/local/lib/python3.10/dist-packages (from transformers) (4.66.2)\n",
      "Requirement already satisfied: fsspec>=2023.5.0 in /usr/local/lib/python3.10/dist-packages (from huggingface-hub<1.0,>=0.19.3->transformers) (2023.6.0)\n",
      "Requirement already satisfied: typing-extensions>=3.7.4.3 in /usr/local/lib/python3.10/dist-packages (from huggingface-hub<1.0,>=0.19.3->transformers) (4.10.0)\n",
      "Requirement already satisfied: charset-normalizer<4,>=2 in /usr/local/lib/python3.10/dist-packages (from requests->transformers) (3.3.2)\n",
      "Requirement already satisfied: idna<4,>=2.5 in /usr/local/lib/python3.10/dist-packages (from requests->transformers) (3.6)\n",
      "Requirement already satisfied: urllib3<3,>=1.21.1 in /usr/local/lib/python3.10/dist-packages (from requests->transformers) (2.0.7)\n",
      "Requirement already satisfied: certifi>=2017.4.17 in /usr/local/lib/python3.10/dist-packages (from requests->transformers) (2024.2.2)\n"
     ]
    }
   ],
   "source": [
    "!pip install --upgrade transformers\n"
   ]
  },
  {
   "cell_type": "code",
   "execution_count": 56,
   "metadata": {
    "colab": {
     "base_uri": "https://localhost:8080/"
    },
    "id": "lfwnfZR_UE54",
    "outputId": "942ad30d-0883-49f2-e92f-edd1fb5659be"
   },
   "outputs": [
    {
     "name": "stderr",
     "output_type": "stream",
     "text": [
      "/usr/local/lib/python3.10/dist-packages/accelerate/accelerator.py:432: FutureWarning: Passing the following arguments to `Accelerator` is deprecated and will be removed in version 1.0 of Accelerate: dict_keys(['dispatch_batches', 'split_batches', 'even_batches', 'use_seedable_sampler']). Please pass an `accelerate.DataLoaderConfiguration` instead: \n",
      "dataloader_config = DataLoaderConfiguration(dispatch_batches=None, split_batches=False, even_batches=True, use_seedable_sampler=True)\n",
      "  warnings.warn(\n"
     ]
    }
   ],
   "source": [
    "from transformers import Trainer\n",
    "trainer = Trainer(\n",
    "    model=model,\n",
    "    data_collator=data_collator,\n",
    "    args=training_args,\n",
    "    compute_metrics=compute_metrics,\n",
    "    train_dataset=common_voice_train,\n",
    "    eval_dataset=common_voice_test,\n",
    "    tokenizer=processor.feature_extractor,\n",
    ")\n"
   ]
  },
  {
   "cell_type": "code",
   "execution_count": 56,
   "metadata": {
    "id": "1FNSLEEcIfW_"
   },
   "outputs": [],
   "source": []
  },
  {
   "cell_type": "code",
   "execution_count": 57,
   "metadata": {
    "colab": {
     "base_uri": "https://localhost:8080/"
    },
    "id": "tVahemBoLJV_",
    "outputId": "2c0dc30f-f569-4ed5-d1c6-2a3a1510a26b"
   },
   "outputs": [
    {
     "name": "stdout",
     "output_type": "stream",
     "text": [
      "Name: transformers\n",
      "Version: 4.39.2\n",
      "Summary: State-of-the-art Machine Learning for JAX, PyTorch and TensorFlow\n",
      "Home-page: https://github.com/huggingface/transformers\n",
      "Author: The Hugging Face team (past and future) with the help of all our contributors (https://github.com/huggingface/transformers/graphs/contributors)\n",
      "Author-email: transformers@huggingface.co\n",
      "License: Apache 2.0 License\n",
      "Location: /usr/local/lib/python3.10/dist-packages\n",
      "Requires: filelock, huggingface-hub, numpy, packaging, pyyaml, regex, requests, safetensors, tokenizers, tqdm\n",
      "Required-by: \n"
     ]
    }
   ],
   "source": [
    "!pip show transformers"
   ]
  },
  {
   "cell_type": "code",
   "execution_count": 57,
   "metadata": {
    "id": "e4_wM6EWUE9X"
   },
   "outputs": [],
   "source": []
  },
  {
   "cell_type": "code",
   "execution_count": 58,
   "metadata": {
    "colab": {
     "base_uri": "https://localhost:8080/"
    },
    "id": "zPSsfcBsUGGi",
    "outputId": "a4abc66e-b163-49f8-da24-25447257886a"
   },
   "outputs": [
    {
     "name": "stdout",
     "output_type": "stream",
     "text": [
      "Thu Mar 28 18:15:22 2024       \n",
      "+---------------------------------------------------------------------------------------+\n",
      "| NVIDIA-SMI 535.104.05             Driver Version: 535.104.05   CUDA Version: 12.2     |\n",
      "|-----------------------------------------+----------------------+----------------------+\n",
      "| GPU  Name                 Persistence-M | Bus-Id        Disp.A | Volatile Uncorr. ECC |\n",
      "| Fan  Temp   Perf          Pwr:Usage/Cap |         Memory-Usage | GPU-Util  Compute M. |\n",
      "|                                         |                      |               MIG M. |\n",
      "|=========================================+======================+======================|\n",
      "|   0  NVIDIA A100-SXM4-40GB          Off | 00000000:00:04.0 Off |                    0 |\n",
      "| N/A   31C    P0              50W / 400W |   1629MiB / 40960MiB |      0%      Default |\n",
      "|                                         |                      |             Disabled |\n",
      "+-----------------------------------------+----------------------+----------------------+\n",
      "                                                                                         \n",
      "+---------------------------------------------------------------------------------------+\n",
      "| Processes:                                                                            |\n",
      "|  GPU   GI   CI        PID   Type   Process name                            GPU Memory |\n",
      "|        ID   ID                                                             Usage      |\n",
      "|=======================================================================================|\n",
      "+---------------------------------------------------------------------------------------+\n"
     ]
    }
   ],
   "source": [
    "!nvidia-smi"
   ]
  },
  {
   "cell_type": "code",
   "execution_count": null,
   "metadata": {
    "colab": {
     "base_uri": "https://localhost:8080/",
     "height": 1000
    },
    "id": "47mTvp29UGJ5",
    "outputId": "d61fcf8f-a18d-4cf5-bb96-1da5972fcac3"
   },
   "outputs": [
    {
     "metadata": {
      "tags": null
     },
     "name": "stderr",
     "output_type": "stream",
     "text": [
      "/usr/local/lib/python3.10/dist-packages/transformers/models/wav2vec2/processing_wav2vec2.py:156: UserWarning: `as_target_processor` is deprecated and will be removed in v5 of Transformers. You can process your labels by using the argument `text` of the regular `__call__` method (either in the same call as your audio inputs, or in a separate call.\n",
      "  warnings.warn(\n"
     ]
    },
    {
     "data": {
      "text/html": [
       "\n",
       "    <div>\n",
       "      \n",
       "      <progress value='10092' max='39200' style='width:300px; height:20px; vertical-align: middle;'></progress>\n",
       "      [10092/39200 6:06:19 < 17:36:46, 0.46 it/s, Epoch 51.48/200]\n",
       "    </div>\n",
       "    <table border=\"1\" class=\"dataframe\">\n",
       "  <thead>\n",
       " <tr style=\"text-align: left;\">\n",
       "      <th>Step</th>\n",
       "      <th>Training Loss</th>\n",
       "      <th>Validation Loss</th>\n",
       "      <th>Wer</th>\n",
       "    </tr>\n",
       "  </thead>\n",
       "  <tbody>\n",
       "    <tr>\n",
       "      <td>500</td>\n",
       "      <td>5.513200</td>\n",
       "      <td>3.280160</td>\n",
       "      <td>0.999871</td>\n",
       "    </tr>\n",
       "    <tr>\n",
       "      <td>1000</td>\n",
       "      <td>1.646600</td>\n",
       "      <td>0.756741</td>\n",
       "      <td>0.592116</td>\n",
       "    </tr>\n",
       "    <tr>\n",
       "      <td>1500</td>\n",
       "      <td>0.783300</td>\n",
       "      <td>0.461197</td>\n",
       "      <td>0.412431</td>\n",
       "    </tr>\n",
       "    <tr>\n",
       "      <td>2000</td>\n",
       "      <td>0.673300</td>\n",
       "      <td>0.566671</td>\n",
       "      <td>0.423669</td>\n",
       "    </tr>\n",
       "    <tr>\n",
       "      <td>2500</td>\n",
       "      <td>0.613500</td>\n",
       "      <td>0.542584</td>\n",
       "      <td>0.403037</td>\n",
       "    </tr>\n",
       "    <tr>\n",
       "      <td>3000</td>\n",
       "      <td>0.568000</td>\n",
       "      <td>0.465672</td>\n",
       "      <td>0.402351</td>\n",
       "    </tr>\n",
       "    <tr>\n",
       "      <td>3500</td>\n",
       "      <td>0.511000</td>\n",
       "      <td>0.386570</td>\n",
       "      <td>0.327242</td>\n",
       "    </tr>\n",
       "    <tr>\n",
       "      <td>4000</td>\n",
       "      <td>0.406800</td>\n",
       "      <td>0.666904</td>\n",
       "      <td>0.370308</td>\n",
       "    </tr>\n",
       "    <tr>\n",
       "      <td>4500</td>\n",
       "      <td>0.297200</td>\n",
       "      <td>1.275507</td>\n",
       "      <td>0.486209</td>\n",
       "    </tr>\n",
       "    <tr>\n",
       "      <td>5000</td>\n",
       "      <td>0.214900</td>\n",
       "      <td>1.006335</td>\n",
       "      <td>0.418350</td>\n",
       "    </tr>\n",
       "    <tr>\n",
       "      <td>5500</td>\n",
       "      <td>0.155100</td>\n",
       "      <td>0.730819</td>\n",
       "      <td>0.323167</td>\n",
       "    </tr>\n",
       "    <tr>\n",
       "      <td>6000</td>\n",
       "      <td>0.123800</td>\n",
       "      <td>0.852195</td>\n",
       "      <td>0.331832</td>\n",
       "    </tr>\n",
       "    <tr>\n",
       "      <td>6500</td>\n",
       "      <td>0.102300</td>\n",
       "      <td>1.018400</td>\n",
       "      <td>0.376871</td>\n",
       "    </tr>\n",
       "    <tr>\n",
       "      <td>7000</td>\n",
       "      <td>0.083100</td>\n",
       "      <td>1.500771</td>\n",
       "      <td>0.412774</td>\n",
       "    </tr>\n",
       "    <tr>\n",
       "      <td>7500</td>\n",
       "      <td>0.069600</td>\n",
       "      <td>1.247795</td>\n",
       "      <td>0.361558</td>\n",
       "    </tr>\n",
       "    <tr>\n",
       "      <td>8000</td>\n",
       "      <td>0.066000</td>\n",
       "      <td>1.429165</td>\n",
       "      <td>0.371552</td>\n",
       "    </tr>\n",
       "    <tr>\n",
       "      <td>8500</td>\n",
       "      <td>0.066400</td>\n",
       "      <td>2.234686</td>\n",
       "      <td>0.493373</td>\n",
       "    </tr>\n",
       "    <tr>\n",
       "      <td>9000</td>\n",
       "      <td>0.055900</td>\n",
       "      <td>1.270411</td>\n",
       "      <td>0.386351</td>\n",
       "    </tr>\n",
       "    <tr>\n",
       "      <td>9500</td>\n",
       "      <td>0.047500</td>\n",
       "      <td>1.486986</td>\n",
       "      <td>0.368335</td>\n",
       "    </tr>\n",
       "    <tr>\n",
       "      <td>10000</td>\n",
       "      <td>0.042900</td>\n",
       "      <td>2.440573</td>\n",
       "      <td>0.438940</td>\n",
       "    </tr>\n",
       "  </tbody>\n",
       "</table><p>"
      ],
      "text/plain": [
       "<IPython.core.display.HTML object>"
      ]
     },
     "metadata": {},
     "output_type": "display_data"
    },
    {
     "metadata": {
      "tags": null
     },
     "name": "stderr",
     "output_type": "stream",
     "text": [
      "/usr/local/lib/python3.10/dist-packages/transformers/models/wav2vec2/processing_wav2vec2.py:156: UserWarning: `as_target_processor` is deprecated and will be removed in v5 of Transformers. You can process your labels by using the argument `text` of the regular `__call__` method (either in the same call as your audio inputs, or in a separate call.\n",
      "  warnings.warn(\n",
      "/usr/local/lib/python3.10/dist-packages/transformers/models/wav2vec2/processing_wav2vec2.py:156: UserWarning: `as_target_processor` is deprecated and will be removed in v5 of Transformers. You can process your labels by using the argument `text` of the regular `__call__` method (either in the same call as your audio inputs, or in a separate call.\n",
      "  warnings.warn(\n",
      "/usr/local/lib/python3.10/dist-packages/transformers/models/wav2vec2/processing_wav2vec2.py:156: UserWarning: `as_target_processor` is deprecated and will be removed in v5 of Transformers. You can process your labels by using the argument `text` of the regular `__call__` method (either in the same call as your audio inputs, or in a separate call.\n",
      "  warnings.warn(\n",
      "/usr/local/lib/python3.10/dist-packages/transformers/models/wav2vec2/processing_wav2vec2.py:156: UserWarning: `as_target_processor` is deprecated and will be removed in v5 of Transformers. You can process your labels by using the argument `text` of the regular `__call__` method (either in the same call as your audio inputs, or in a separate call.\n",
      "  warnings.warn(\n",
      "/usr/local/lib/python3.10/dist-packages/transformers/models/wav2vec2/processing_wav2vec2.py:156: UserWarning: `as_target_processor` is deprecated and will be removed in v5 of Transformers. You can process your labels by using the argument `text` of the regular `__call__` method (either in the same call as your audio inputs, or in a separate call.\n",
      "  warnings.warn(\n",
      "/usr/local/lib/python3.10/dist-packages/transformers/models/wav2vec2/processing_wav2vec2.py:156: UserWarning: `as_target_processor` is deprecated and will be removed in v5 of Transformers. You can process your labels by using the argument `text` of the regular `__call__` method (either in the same call as your audio inputs, or in a separate call.\n",
      "  warnings.warn(\n",
      "/usr/local/lib/python3.10/dist-packages/transformers/models/wav2vec2/processing_wav2vec2.py:156: UserWarning: `as_target_processor` is deprecated and will be removed in v5 of Transformers. You can process your labels by using the argument `text` of the regular `__call__` method (either in the same call as your audio inputs, or in a separate call.\n",
      "  warnings.warn(\n",
      "/usr/local/lib/python3.10/dist-packages/transformers/models/wav2vec2/processing_wav2vec2.py:156: UserWarning: `as_target_processor` is deprecated and will be removed in v5 of Transformers. You can process your labels by using the argument `text` of the regular `__call__` method (either in the same call as your audio inputs, or in a separate call.\n",
      "  warnings.warn(\n",
      "/usr/local/lib/python3.10/dist-packages/transformers/models/wav2vec2/processing_wav2vec2.py:156: UserWarning: `as_target_processor` is deprecated and will be removed in v5 of Transformers. You can process your labels by using the argument `text` of the regular `__call__` method (either in the same call as your audio inputs, or in a separate call.\n",
      "  warnings.warn(\n",
      "/usr/local/lib/python3.10/dist-packages/transformers/models/wav2vec2/processing_wav2vec2.py:156: UserWarning: `as_target_processor` is deprecated and will be removed in v5 of Transformers. You can process your labels by using the argument `text` of the regular `__call__` method (either in the same call as your audio inputs, or in a separate call.\n",
      "  warnings.warn(\n",
      "/usr/local/lib/python3.10/dist-packages/transformers/models/wav2vec2/processing_wav2vec2.py:156: UserWarning: `as_target_processor` is deprecated and will be removed in v5 of Transformers. You can process your labels by using the argument `text` of the regular `__call__` method (either in the same call as your audio inputs, or in a separate call.\n",
      "  warnings.warn(\n",
      "/usr/local/lib/python3.10/dist-packages/transformers/models/wav2vec2/processing_wav2vec2.py:156: UserWarning: `as_target_processor` is deprecated and will be removed in v5 of Transformers. You can process your labels by using the argument `text` of the regular `__call__` method (either in the same call as your audio inputs, or in a separate call.\n",
      "  warnings.warn(\n",
      "/usr/local/lib/python3.10/dist-packages/transformers/models/wav2vec2/processing_wav2vec2.py:156: UserWarning: `as_target_processor` is deprecated and will be removed in v5 of Transformers. You can process your labels by using the argument `text` of the regular `__call__` method (either in the same call as your audio inputs, or in a separate call.\n",
      "  warnings.warn(\n",
      "/usr/local/lib/python3.10/dist-packages/transformers/models/wav2vec2/processing_wav2vec2.py:156: UserWarning: `as_target_processor` is deprecated and will be removed in v5 of Transformers. You can process your labels by using the argument `text` of the regular `__call__` method (either in the same call as your audio inputs, or in a separate call.\n",
      "  warnings.warn(\n",
      "/usr/local/lib/python3.10/dist-packages/transformers/models/wav2vec2/processing_wav2vec2.py:156: UserWarning: `as_target_processor` is deprecated and will be removed in v5 of Transformers. You can process your labels by using the argument `text` of the regular `__call__` method (either in the same call as your audio inputs, or in a separate call.\n",
      "  warnings.warn(\n",
      "/usr/local/lib/python3.10/dist-packages/transformers/models/wav2vec2/processing_wav2vec2.py:156: UserWarning: `as_target_processor` is deprecated and will be removed in v5 of Transformers. You can process your labels by using the argument `text` of the regular `__call__` method (either in the same call as your audio inputs, or in a separate call.\n",
      "  warnings.warn(\n",
      "/usr/local/lib/python3.10/dist-packages/transformers/models/wav2vec2/processing_wav2vec2.py:156: UserWarning: `as_target_processor` is deprecated and will be removed in v5 of Transformers. You can process your labels by using the argument `text` of the regular `__call__` method (either in the same call as your audio inputs, or in a separate call.\n",
      "  warnings.warn(\n",
      "/usr/local/lib/python3.10/dist-packages/transformers/models/wav2vec2/processing_wav2vec2.py:156: UserWarning: `as_target_processor` is deprecated and will be removed in v5 of Transformers. You can process your labels by using the argument `text` of the regular `__call__` method (either in the same call as your audio inputs, or in a separate call.\n",
      "  warnings.warn(\n",
      "/usr/local/lib/python3.10/dist-packages/transformers/models/wav2vec2/processing_wav2vec2.py:156: UserWarning: `as_target_processor` is deprecated and will be removed in v5 of Transformers. You can process your labels by using the argument `text` of the regular `__call__` method (either in the same call as your audio inputs, or in a separate call.\n",
      "  warnings.warn(\n",
      "/usr/local/lib/python3.10/dist-packages/transformers/models/wav2vec2/processing_wav2vec2.py:156: UserWarning: `as_target_processor` is deprecated and will be removed in v5 of Transformers. You can process your labels by using the argument `text` of the regular `__call__` method (either in the same call as your audio inputs, or in a separate call.\n",
      "  warnings.warn(\n"
     ]
    },
    {
     "data": {
      "text/html": [
       "\n",
       "    <div>\n",
       "      \n",
       "      <progress value='33001' max='39200' style='width:300px; height:20px; vertical-align: middle;'></progress>\n",
       "      [33001/39200 20:09:40 < 3:47:14, 0.45 it/s, Epoch 168.37/200]\n",
       "    </div>\n",
       "    <table border=\"1\" class=\"dataframe\">\n",
       "  <thead>\n",
       " <tr style=\"text-align: left;\">\n",
       "      <th>Step</th>\n",
       "      <th>Training Loss</th>\n",
       "      <th>Validation Loss</th>\n",
       "      <th>Wer</th>\n",
       "    </tr>\n",
       "  </thead>\n",
       "  <tbody>\n",
       "    <tr>\n",
       "      <td>500</td>\n",
       "      <td>5.513200</td>\n",
       "      <td>3.280160</td>\n",
       "      <td>0.999871</td>\n",
       "    </tr>\n",
       "    <tr>\n",
       "      <td>1000</td>\n",
       "      <td>1.646600</td>\n",
       "      <td>0.756741</td>\n",
       "      <td>0.592116</td>\n",
       "    </tr>\n",
       "    <tr>\n",
       "      <td>1500</td>\n",
       "      <td>0.783300</td>\n",
       "      <td>0.461197</td>\n",
       "      <td>0.412431</td>\n",
       "    </tr>\n",
       "    <tr>\n",
       "      <td>2000</td>\n",
       "      <td>0.673300</td>\n",
       "      <td>0.566671</td>\n",
       "      <td>0.423669</td>\n",
       "    </tr>\n",
       "    <tr>\n",
       "      <td>2500</td>\n",
       "      <td>0.613500</td>\n",
       "      <td>0.542584</td>\n",
       "      <td>0.403037</td>\n",
       "    </tr>\n",
       "    <tr>\n",
       "      <td>3000</td>\n",
       "      <td>0.568000</td>\n",
       "      <td>0.465672</td>\n",
       "      <td>0.402351</td>\n",
       "    </tr>\n",
       "    <tr>\n",
       "      <td>3500</td>\n",
       "      <td>0.511000</td>\n",
       "      <td>0.386570</td>\n",
       "      <td>0.327242</td>\n",
       "    </tr>\n",
       "    <tr>\n",
       "      <td>4000</td>\n",
       "      <td>0.406800</td>\n",
       "      <td>0.666904</td>\n",
       "      <td>0.370308</td>\n",
       "    </tr>\n",
       "    <tr>\n",
       "      <td>4500</td>\n",
       "      <td>0.297200</td>\n",
       "      <td>1.275507</td>\n",
       "      <td>0.486209</td>\n",
       "    </tr>\n",
       "    <tr>\n",
       "      <td>5000</td>\n",
       "      <td>0.214900</td>\n",
       "      <td>1.006335</td>\n",
       "      <td>0.418350</td>\n",
       "    </tr>\n",
       "    <tr>\n",
       "      <td>5500</td>\n",
       "      <td>0.155100</td>\n",
       "      <td>0.730819</td>\n",
       "      <td>0.323167</td>\n",
       "    </tr>\n",
       "    <tr>\n",
       "      <td>6000</td>\n",
       "      <td>0.123800</td>\n",
       "      <td>0.852195</td>\n",
       "      <td>0.331832</td>\n",
       "    </tr>\n",
       "    <tr>\n",
       "      <td>6500</td>\n",
       "      <td>0.102300</td>\n",
       "      <td>1.018400</td>\n",
       "      <td>0.376871</td>\n",
       "    </tr>\n",
       "    <tr>\n",
       "      <td>7000</td>\n",
       "      <td>0.083100</td>\n",
       "      <td>1.500771</td>\n",
       "      <td>0.412774</td>\n",
       "    </tr>\n",
       "    <tr>\n",
       "      <td>7500</td>\n",
       "      <td>0.069600</td>\n",
       "      <td>1.247795</td>\n",
       "      <td>0.361558</td>\n",
       "    </tr>\n",
       "    <tr>\n",
       "      <td>8000</td>\n",
       "      <td>0.066000</td>\n",
       "      <td>1.429165</td>\n",
       "      <td>0.371552</td>\n",
       "    </tr>\n",
       "    <tr>\n",
       "      <td>8500</td>\n",
       "      <td>0.066400</td>\n",
       "      <td>2.234686</td>\n",
       "      <td>0.493373</td>\n",
       "    </tr>\n",
       "    <tr>\n",
       "      <td>9000</td>\n",
       "      <td>0.055900</td>\n",
       "      <td>1.270411</td>\n",
       "      <td>0.386351</td>\n",
       "    </tr>\n",
       "    <tr>\n",
       "      <td>9500</td>\n",
       "      <td>0.047500</td>\n",
       "      <td>1.486986</td>\n",
       "      <td>0.368335</td>\n",
       "    </tr>\n",
       "    <tr>\n",
       "      <td>10000</td>\n",
       "      <td>0.042900</td>\n",
       "      <td>2.440573</td>\n",
       "      <td>0.438940</td>\n",
       "    </tr>\n",
       "    <tr>\n",
       "      <td>10500</td>\n",
       "      <td>0.039900</td>\n",
       "      <td>2.462556</td>\n",
       "      <td>0.436323</td>\n",
       "    </tr>\n",
       "    <tr>\n",
       "      <td>11000</td>\n",
       "      <td>0.039900</td>\n",
       "      <td>2.060173</td>\n",
       "      <td>0.394201</td>\n",
       "    </tr>\n",
       "    <tr>\n",
       "      <td>11500</td>\n",
       "      <td>0.036000</td>\n",
       "      <td>1.722685</td>\n",
       "      <td>0.353279</td>\n",
       "    </tr>\n",
       "    <tr>\n",
       "      <td>12000</td>\n",
       "      <td>0.037700</td>\n",
       "      <td>1.844141</td>\n",
       "      <td>0.362845</td>\n",
       "    </tr>\n",
       "    <tr>\n",
       "      <td>12500</td>\n",
       "      <td>0.032500</td>\n",
       "      <td>1.927654</td>\n",
       "      <td>0.367949</td>\n",
       "    </tr>\n",
       "    <tr>\n",
       "      <td>13000</td>\n",
       "      <td>0.032100</td>\n",
       "      <td>1.995656</td>\n",
       "      <td>0.383520</td>\n",
       "    </tr>\n",
       "    <tr>\n",
       "      <td>13500</td>\n",
       "      <td>0.027000</td>\n",
       "      <td>2.523258</td>\n",
       "      <td>0.426028</td>\n",
       "    </tr>\n",
       "    <tr>\n",
       "      <td>14000</td>\n",
       "      <td>0.029700</td>\n",
       "      <td>2.074317</td>\n",
       "      <td>0.367821</td>\n",
       "    </tr>\n",
       "    <tr>\n",
       "      <td>14500</td>\n",
       "      <td>0.022000</td>\n",
       "      <td>1.835072</td>\n",
       "      <td>0.374684</td>\n",
       "    </tr>\n",
       "    <tr>\n",
       "      <td>15000</td>\n",
       "      <td>0.027900</td>\n",
       "      <td>2.499417</td>\n",
       "      <td>0.427101</td>\n",
       "    </tr>\n",
       "    <tr>\n",
       "      <td>15500</td>\n",
       "      <td>0.022600</td>\n",
       "      <td>1.655444</td>\n",
       "      <td>0.337666</td>\n",
       "    </tr>\n",
       "    <tr>\n",
       "      <td>16000</td>\n",
       "      <td>0.022100</td>\n",
       "      <td>1.973193</td>\n",
       "      <td>0.347102</td>\n",
       "    </tr>\n",
       "    <tr>\n",
       "      <td>16500</td>\n",
       "      <td>0.020200</td>\n",
       "      <td>1.906624</td>\n",
       "      <td>0.359070</td>\n",
       "    </tr>\n",
       "    <tr>\n",
       "      <td>17000</td>\n",
       "      <td>0.021600</td>\n",
       "      <td>1.915071</td>\n",
       "      <td>0.367520</td>\n",
       "    </tr>\n",
       "    <tr>\n",
       "      <td>17500</td>\n",
       "      <td>0.020200</td>\n",
       "      <td>1.756278</td>\n",
       "      <td>0.343971</td>\n",
       "    </tr>\n",
       "    <tr>\n",
       "      <td>18000</td>\n",
       "      <td>0.020300</td>\n",
       "      <td>2.847001</td>\n",
       "      <td>0.420023</td>\n",
       "    </tr>\n",
       "    <tr>\n",
       "      <td>18500</td>\n",
       "      <td>0.019000</td>\n",
       "      <td>1.877478</td>\n",
       "      <td>0.341183</td>\n",
       "    </tr>\n",
       "    <tr>\n",
       "      <td>19000</td>\n",
       "      <td>0.018200</td>\n",
       "      <td>2.391540</td>\n",
       "      <td>0.425471</td>\n",
       "    </tr>\n",
       "    <tr>\n",
       "      <td>19500</td>\n",
       "      <td>0.016400</td>\n",
       "      <td>2.164521</td>\n",
       "      <td>0.375241</td>\n",
       "    </tr>\n",
       "    <tr>\n",
       "      <td>20000</td>\n",
       "      <td>0.014100</td>\n",
       "      <td>2.559773</td>\n",
       "      <td>0.385150</td>\n",
       "    </tr>\n",
       "    <tr>\n",
       "      <td>20500</td>\n",
       "      <td>0.013200</td>\n",
       "      <td>3.795174</td>\n",
       "      <td>0.511603</td>\n",
       "    </tr>\n",
       "    <tr>\n",
       "      <td>21000</td>\n",
       "      <td>0.013400</td>\n",
       "      <td>2.315146</td>\n",
       "      <td>0.369708</td>\n",
       "    </tr>\n",
       "    <tr>\n",
       "      <td>21500</td>\n",
       "      <td>0.014100</td>\n",
       "      <td>2.252669</td>\n",
       "      <td>0.370780</td>\n",
       "    </tr>\n",
       "    <tr>\n",
       "      <td>22000</td>\n",
       "      <td>0.012300</td>\n",
       "      <td>2.091452</td>\n",
       "      <td>0.362673</td>\n",
       "    </tr>\n",
       "    <tr>\n",
       "      <td>22500</td>\n",
       "      <td>0.012700</td>\n",
       "      <td>2.566785</td>\n",
       "      <td>0.410586</td>\n",
       "    </tr>\n",
       "    <tr>\n",
       "      <td>23000</td>\n",
       "      <td>0.012000</td>\n",
       "      <td>3.883900</td>\n",
       "      <td>0.491485</td>\n",
       "    </tr>\n",
       "    <tr>\n",
       "      <td>23500</td>\n",
       "      <td>0.013900</td>\n",
       "      <td>6.004167</td>\n",
       "      <td>0.690387</td>\n",
       "    </tr>\n",
       "    <tr>\n",
       "      <td>24000</td>\n",
       "      <td>0.011100</td>\n",
       "      <td>1.938043</td>\n",
       "      <td>0.361472</td>\n",
       "    </tr>\n",
       "    <tr>\n",
       "      <td>24500</td>\n",
       "      <td>0.010500</td>\n",
       "      <td>1.949666</td>\n",
       "      <td>0.399520</td>\n",
       "    </tr>\n",
       "    <tr>\n",
       "      <td>25000</td>\n",
       "      <td>0.010300</td>\n",
       "      <td>1.555080</td>\n",
       "      <td>0.331703</td>\n",
       "    </tr>\n",
       "    <tr>\n",
       "      <td>25500</td>\n",
       "      <td>0.009800</td>\n",
       "      <td>2.192113</td>\n",
       "      <td>0.388710</td>\n",
       "    </tr>\n",
       "    <tr>\n",
       "      <td>26000</td>\n",
       "      <td>0.010000</td>\n",
       "      <td>1.946703</td>\n",
       "      <td>0.349462</td>\n",
       "    </tr>\n",
       "    <tr>\n",
       "      <td>26500</td>\n",
       "      <td>0.007600</td>\n",
       "      <td>1.876233</td>\n",
       "      <td>0.337709</td>\n",
       "    </tr>\n",
       "    <tr>\n",
       "      <td>27000</td>\n",
       "      <td>0.008000</td>\n",
       "      <td>2.387273</td>\n",
       "      <td>0.361772</td>\n",
       "    </tr>\n",
       "    <tr>\n",
       "      <td>27500</td>\n",
       "      <td>0.008500</td>\n",
       "      <td>1.881484</td>\n",
       "      <td>0.337237</td>\n",
       "    </tr>\n",
       "    <tr>\n",
       "      <td>28000</td>\n",
       "      <td>0.007000</td>\n",
       "      <td>2.471979</td>\n",
       "      <td>0.387423</td>\n",
       "    </tr>\n",
       "    <tr>\n",
       "      <td>28500</td>\n",
       "      <td>0.008300</td>\n",
       "      <td>2.338495</td>\n",
       "      <td>0.371767</td>\n",
       "    </tr>\n",
       "    <tr>\n",
       "      <td>29000</td>\n",
       "      <td>0.006400</td>\n",
       "      <td>2.301893</td>\n",
       "      <td>0.373011</td>\n",
       "    </tr>\n",
       "    <tr>\n",
       "      <td>29500</td>\n",
       "      <td>0.006800</td>\n",
       "      <td>2.287619</td>\n",
       "      <td>0.352464</td>\n",
       "    </tr>\n",
       "    <tr>\n",
       "      <td>30000</td>\n",
       "      <td>0.006100</td>\n",
       "      <td>2.224093</td>\n",
       "      <td>0.344657</td>\n",
       "    </tr>\n",
       "    <tr>\n",
       "      <td>30500</td>\n",
       "      <td>0.005600</td>\n",
       "      <td>2.654011</td>\n",
       "      <td>0.383734</td>\n",
       "    </tr>\n",
       "    <tr>\n",
       "      <td>31000</td>\n",
       "      <td>0.006000</td>\n",
       "      <td>2.532291</td>\n",
       "      <td>0.375027</td>\n",
       "    </tr>\n",
       "    <tr>\n",
       "      <td>31500</td>\n",
       "      <td>0.005500</td>\n",
       "      <td>1.571629</td>\n",
       "      <td>0.309312</td>\n",
       "    </tr>\n",
       "    <tr>\n",
       "      <td>32000</td>\n",
       "      <td>0.004800</td>\n",
       "      <td>2.446370</td>\n",
       "      <td>0.354480</td>\n",
       "    </tr>\n",
       "    <tr>\n",
       "      <td>32500</td>\n",
       "      <td>0.004700</td>\n",
       "      <td>2.757346</td>\n",
       "      <td>0.373354</td>\n",
       "    </tr>\n",
       "  </tbody>\n",
       "</table><p>\n",
       "    <div>\n",
       "      \n",
       "      <progress value='49' max='388' style='width:300px; height:20px; vertical-align: middle;'></progress>\n",
       "      [ 49/388 00:11 < 01:19, 4.24 it/s]\n",
       "    </div>\n",
       "    "
      ],
      "text/plain": [
       "<IPython.core.display.HTML object>"
      ]
     },
     "metadata": {},
     "output_type": "display_data"
    },
    {
     "name": "stderr",
     "output_type": "stream",
     "text": [
      "/usr/local/lib/python3.10/dist-packages/transformers/models/wav2vec2/processing_wav2vec2.py:156: UserWarning: `as_target_processor` is deprecated and will be removed in v5 of Transformers. You can process your labels by using the argument `text` of the regular `__call__` method (either in the same call as your audio inputs, or in a separate call.\n",
      "  warnings.warn(\n",
      "/usr/local/lib/python3.10/dist-packages/transformers/models/wav2vec2/processing_wav2vec2.py:156: UserWarning: `as_target_processor` is deprecated and will be removed in v5 of Transformers. You can process your labels by using the argument `text` of the regular `__call__` method (either in the same call as your audio inputs, or in a separate call.\n",
      "  warnings.warn(\n",
      "/usr/local/lib/python3.10/dist-packages/transformers/models/wav2vec2/processing_wav2vec2.py:156: UserWarning: `as_target_processor` is deprecated and will be removed in v5 of Transformers. You can process your labels by using the argument `text` of the regular `__call__` method (either in the same call as your audio inputs, or in a separate call.\n",
      "  warnings.warn(\n",
      "/usr/local/lib/python3.10/dist-packages/transformers/models/wav2vec2/processing_wav2vec2.py:156: UserWarning: `as_target_processor` is deprecated and will be removed in v5 of Transformers. You can process your labels by using the argument `text` of the regular `__call__` method (either in the same call as your audio inputs, or in a separate call.\n",
      "  warnings.warn(\n",
      "/usr/local/lib/python3.10/dist-packages/transformers/models/wav2vec2/processing_wav2vec2.py:156: UserWarning: `as_target_processor` is deprecated and will be removed in v5 of Transformers. You can process your labels by using the argument `text` of the regular `__call__` method (either in the same call as your audio inputs, or in a separate call.\n",
      "  warnings.warn(\n",
      "/usr/local/lib/python3.10/dist-packages/transformers/models/wav2vec2/processing_wav2vec2.py:156: UserWarning: `as_target_processor` is deprecated and will be removed in v5 of Transformers. You can process your labels by using the argument `text` of the regular `__call__` method (either in the same call as your audio inputs, or in a separate call.\n",
      "  warnings.warn(\n",
      "/usr/local/lib/python3.10/dist-packages/transformers/models/wav2vec2/processing_wav2vec2.py:156: UserWarning: `as_target_processor` is deprecated and will be removed in v5 of Transformers. You can process your labels by using the argument `text` of the regular `__call__` method (either in the same call as your audio inputs, or in a separate call.\n",
      "  warnings.warn(\n",
      "/usr/local/lib/python3.10/dist-packages/transformers/models/wav2vec2/processing_wav2vec2.py:156: UserWarning: `as_target_processor` is deprecated and will be removed in v5 of Transformers. You can process your labels by using the argument `text` of the regular `__call__` method (either in the same call as your audio inputs, or in a separate call.\n",
      "  warnings.warn(\n",
      "/usr/local/lib/python3.10/dist-packages/transformers/models/wav2vec2/processing_wav2vec2.py:156: UserWarning: `as_target_processor` is deprecated and will be removed in v5 of Transformers. You can process your labels by using the argument `text` of the regular `__call__` method (either in the same call as your audio inputs, or in a separate call.\n",
      "  warnings.warn(\n",
      "/usr/local/lib/python3.10/dist-packages/transformers/models/wav2vec2/processing_wav2vec2.py:156: UserWarning: `as_target_processor` is deprecated and will be removed in v5 of Transformers. You can process your labels by using the argument `text` of the regular `__call__` method (either in the same call as your audio inputs, or in a separate call.\n",
      "  warnings.warn(\n",
      "/usr/local/lib/python3.10/dist-packages/transformers/models/wav2vec2/processing_wav2vec2.py:156: UserWarning: `as_target_processor` is deprecated and will be removed in v5 of Transformers. You can process your labels by using the argument `text` of the regular `__call__` method (either in the same call as your audio inputs, or in a separate call.\n",
      "  warnings.warn(\n",
      "/usr/local/lib/python3.10/dist-packages/transformers/models/wav2vec2/processing_wav2vec2.py:156: UserWarning: `as_target_processor` is deprecated and will be removed in v5 of Transformers. You can process your labels by using the argument `text` of the regular `__call__` method (either in the same call as your audio inputs, or in a separate call.\n",
      "  warnings.warn(\n",
      "/usr/local/lib/python3.10/dist-packages/transformers/models/wav2vec2/processing_wav2vec2.py:156: UserWarning: `as_target_processor` is deprecated and will be removed in v5 of Transformers. You can process your labels by using the argument `text` of the regular `__call__` method (either in the same call as your audio inputs, or in a separate call.\n",
      "  warnings.warn(\n",
      "/usr/local/lib/python3.10/dist-packages/transformers/models/wav2vec2/processing_wav2vec2.py:156: UserWarning: `as_target_processor` is deprecated and will be removed in v5 of Transformers. You can process your labels by using the argument `text` of the regular `__call__` method (either in the same call as your audio inputs, or in a separate call.\n",
      "  warnings.warn(\n",
      "/usr/local/lib/python3.10/dist-packages/transformers/models/wav2vec2/processing_wav2vec2.py:156: UserWarning: `as_target_processor` is deprecated and will be removed in v5 of Transformers. You can process your labels by using the argument `text` of the regular `__call__` method (either in the same call as your audio inputs, or in a separate call.\n",
      "  warnings.warn(\n",
      "/usr/local/lib/python3.10/dist-packages/transformers/models/wav2vec2/processing_wav2vec2.py:156: UserWarning: `as_target_processor` is deprecated and will be removed in v5 of Transformers. You can process your labels by using the argument `text` of the regular `__call__` method (either in the same call as your audio inputs, or in a separate call.\n",
      "  warnings.warn(\n",
      "/usr/local/lib/python3.10/dist-packages/transformers/models/wav2vec2/processing_wav2vec2.py:156: UserWarning: `as_target_processor` is deprecated and will be removed in v5 of Transformers. You can process your labels by using the argument `text` of the regular `__call__` method (either in the same call as your audio inputs, or in a separate call.\n",
      "  warnings.warn(\n",
      "/usr/local/lib/python3.10/dist-packages/transformers/models/wav2vec2/processing_wav2vec2.py:156: UserWarning: `as_target_processor` is deprecated and will be removed in v5 of Transformers. You can process your labels by using the argument `text` of the regular `__call__` method (either in the same call as your audio inputs, or in a separate call.\n",
      "  warnings.warn(\n",
      "/usr/local/lib/python3.10/dist-packages/transformers/models/wav2vec2/processing_wav2vec2.py:156: UserWarning: `as_target_processor` is deprecated and will be removed in v5 of Transformers. You can process your labels by using the argument `text` of the regular `__call__` method (either in the same call as your audio inputs, or in a separate call.\n",
      "  warnings.warn(\n",
      "/usr/local/lib/python3.10/dist-packages/transformers/models/wav2vec2/processing_wav2vec2.py:156: UserWarning: `as_target_processor` is deprecated and will be removed in v5 of Transformers. You can process your labels by using the argument `text` of the regular `__call__` method (either in the same call as your audio inputs, or in a separate call.\n",
      "  warnings.warn(\n",
      "/usr/local/lib/python3.10/dist-packages/transformers/models/wav2vec2/processing_wav2vec2.py:156: UserWarning: `as_target_processor` is deprecated and will be removed in v5 of Transformers. You can process your labels by using the argument `text` of the regular `__call__` method (either in the same call as your audio inputs, or in a separate call.\n",
      "  warnings.warn(\n",
      "/usr/local/lib/python3.10/dist-packages/transformers/models/wav2vec2/processing_wav2vec2.py:156: UserWarning: `as_target_processor` is deprecated and will be removed in v5 of Transformers. You can process your labels by using the argument `text` of the regular `__call__` method (either in the same call as your audio inputs, or in a separate call.\n",
      "  warnings.warn(\n",
      "/usr/local/lib/python3.10/dist-packages/transformers/models/wav2vec2/processing_wav2vec2.py:156: UserWarning: `as_target_processor` is deprecated and will be removed in v5 of Transformers. You can process your labels by using the argument `text` of the regular `__call__` method (either in the same call as your audio inputs, or in a separate call.\n",
      "  warnings.warn(\n",
      "/usr/local/lib/python3.10/dist-packages/transformers/models/wav2vec2/processing_wav2vec2.py:156: UserWarning: `as_target_processor` is deprecated and will be removed in v5 of Transformers. You can process your labels by using the argument `text` of the regular `__call__` method (either in the same call as your audio inputs, or in a separate call.\n",
      "  warnings.warn(\n",
      "/usr/local/lib/python3.10/dist-packages/transformers/models/wav2vec2/processing_wav2vec2.py:156: UserWarning: `as_target_processor` is deprecated and will be removed in v5 of Transformers. You can process your labels by using the argument `text` of the regular `__call__` method (either in the same call as your audio inputs, or in a separate call.\n",
      "  warnings.warn(\n",
      "/usr/local/lib/python3.10/dist-packages/transformers/models/wav2vec2/processing_wav2vec2.py:156: UserWarning: `as_target_processor` is deprecated and will be removed in v5 of Transformers. You can process your labels by using the argument `text` of the regular `__call__` method (either in the same call as your audio inputs, or in a separate call.\n",
      "  warnings.warn(\n",
      "/usr/local/lib/python3.10/dist-packages/transformers/models/wav2vec2/processing_wav2vec2.py:156: UserWarning: `as_target_processor` is deprecated and will be removed in v5 of Transformers. You can process your labels by using the argument `text` of the regular `__call__` method (either in the same call as your audio inputs, or in a separate call.\n",
      "  warnings.warn(\n",
      "/usr/local/lib/python3.10/dist-packages/transformers/models/wav2vec2/processing_wav2vec2.py:156: UserWarning: `as_target_processor` is deprecated and will be removed in v5 of Transformers. You can process your labels by using the argument `text` of the regular `__call__` method (either in the same call as your audio inputs, or in a separate call.\n",
      "  warnings.warn(\n",
      "/usr/local/lib/python3.10/dist-packages/transformers/models/wav2vec2/processing_wav2vec2.py:156: UserWarning: `as_target_processor` is deprecated and will be removed in v5 of Transformers. You can process your labels by using the argument `text` of the regular `__call__` method (either in the same call as your audio inputs, or in a separate call.\n",
      "  warnings.warn(\n",
      "/usr/local/lib/python3.10/dist-packages/transformers/models/wav2vec2/processing_wav2vec2.py:156: UserWarning: `as_target_processor` is deprecated and will be removed in v5 of Transformers. You can process your labels by using the argument `text` of the regular `__call__` method (either in the same call as your audio inputs, or in a separate call.\n",
      "  warnings.warn(\n",
      "/usr/local/lib/python3.10/dist-packages/transformers/models/wav2vec2/processing_wav2vec2.py:156: UserWarning: `as_target_processor` is deprecated and will be removed in v5 of Transformers. You can process your labels by using the argument `text` of the regular `__call__` method (either in the same call as your audio inputs, or in a separate call.\n",
      "  warnings.warn(\n",
      "/usr/local/lib/python3.10/dist-packages/transformers/models/wav2vec2/processing_wav2vec2.py:156: UserWarning: `as_target_processor` is deprecated and will be removed in v5 of Transformers. You can process your labels by using the argument `text` of the regular `__call__` method (either in the same call as your audio inputs, or in a separate call.\n",
      "  warnings.warn(\n",
      "/usr/local/lib/python3.10/dist-packages/transformers/models/wav2vec2/processing_wav2vec2.py:156: UserWarning: `as_target_processor` is deprecated and will be removed in v5 of Transformers. You can process your labels by using the argument `text` of the regular `__call__` method (either in the same call as your audio inputs, or in a separate call.\n",
      "  warnings.warn(\n",
      "/usr/local/lib/python3.10/dist-packages/transformers/models/wav2vec2/processing_wav2vec2.py:156: UserWarning: `as_target_processor` is deprecated and will be removed in v5 of Transformers. You can process your labels by using the argument `text` of the regular `__call__` method (either in the same call as your audio inputs, or in a separate call.\n",
      "  warnings.warn(\n",
      "/usr/local/lib/python3.10/dist-packages/transformers/models/wav2vec2/processing_wav2vec2.py:156: UserWarning: `as_target_processor` is deprecated and will be removed in v5 of Transformers. You can process your labels by using the argument `text` of the regular `__call__` method (either in the same call as your audio inputs, or in a separate call.\n",
      "  warnings.warn(\n",
      "/usr/local/lib/python3.10/dist-packages/transformers/models/wav2vec2/processing_wav2vec2.py:156: UserWarning: `as_target_processor` is deprecated and will be removed in v5 of Transformers. You can process your labels by using the argument `text` of the regular `__call__` method (either in the same call as your audio inputs, or in a separate call.\n",
      "  warnings.warn(\n",
      "/usr/local/lib/python3.10/dist-packages/transformers/models/wav2vec2/processing_wav2vec2.py:156: UserWarning: `as_target_processor` is deprecated and will be removed in v5 of Transformers. You can process your labels by using the argument `text` of the regular `__call__` method (either in the same call as your audio inputs, or in a separate call.\n",
      "  warnings.warn(\n",
      "/usr/local/lib/python3.10/dist-packages/transformers/models/wav2vec2/processing_wav2vec2.py:156: UserWarning: `as_target_processor` is deprecated and will be removed in v5 of Transformers. You can process your labels by using the argument `text` of the regular `__call__` method (either in the same call as your audio inputs, or in a separate call.\n",
      "  warnings.warn(\n",
      "/usr/local/lib/python3.10/dist-packages/transformers/models/wav2vec2/processing_wav2vec2.py:156: UserWarning: `as_target_processor` is deprecated and will be removed in v5 of Transformers. You can process your labels by using the argument `text` of the regular `__call__` method (either in the same call as your audio inputs, or in a separate call.\n",
      "  warnings.warn(\n",
      "/usr/local/lib/python3.10/dist-packages/transformers/models/wav2vec2/processing_wav2vec2.py:156: UserWarning: `as_target_processor` is deprecated and will be removed in v5 of Transformers. You can process your labels by using the argument `text` of the regular `__call__` method (either in the same call as your audio inputs, or in a separate call.\n",
      "  warnings.warn(\n",
      "/usr/local/lib/python3.10/dist-packages/transformers/models/wav2vec2/processing_wav2vec2.py:156: UserWarning: `as_target_processor` is deprecated and will be removed in v5 of Transformers. You can process your labels by using the argument `text` of the regular `__call__` method (either in the same call as your audio inputs, or in a separate call.\n",
      "  warnings.warn(\n",
      "/usr/local/lib/python3.10/dist-packages/transformers/models/wav2vec2/processing_wav2vec2.py:156: UserWarning: `as_target_processor` is deprecated and will be removed in v5 of Transformers. You can process your labels by using the argument `text` of the regular `__call__` method (either in the same call as your audio inputs, or in a separate call.\n",
      "  warnings.warn(\n",
      "/usr/local/lib/python3.10/dist-packages/transformers/models/wav2vec2/processing_wav2vec2.py:156: UserWarning: `as_target_processor` is deprecated and will be removed in v5 of Transformers. You can process your labels by using the argument `text` of the regular `__call__` method (either in the same call as your audio inputs, or in a separate call.\n",
      "  warnings.warn(\n",
      "/usr/local/lib/python3.10/dist-packages/transformers/models/wav2vec2/processing_wav2vec2.py:156: UserWarning: `as_target_processor` is deprecated and will be removed in v5 of Transformers. You can process your labels by using the argument `text` of the regular `__call__` method (either in the same call as your audio inputs, or in a separate call.\n",
      "  warnings.warn(\n",
      "/usr/local/lib/python3.10/dist-packages/transformers/models/wav2vec2/processing_wav2vec2.py:156: UserWarning: `as_target_processor` is deprecated and will be removed in v5 of Transformers. You can process your labels by using the argument `text` of the regular `__call__` method (either in the same call as your audio inputs, or in a separate call.\n",
      "  warnings.warn(\n"
     ]
    }
   ],
   "source": [
    "trainer.train()"
   ]
  },
  {
   "cell_type": "code",
   "execution_count": null,
   "metadata": {
    "id": "XBvXdM9DUGLP"
   },
   "outputs": [],
   "source": []
  },
  {
   "cell_type": "code",
   "execution_count": null,
   "metadata": {
    "id": "dX6GBo-iUGN2"
   },
   "outputs": [],
   "source": []
  },
  {
   "cell_type": "code",
   "execution_count": null,
   "metadata": {
    "id": "TFd5IFdWUGRL"
   },
   "outputs": [],
   "source": []
  },
  {
   "cell_type": "code",
   "execution_count": null,
   "metadata": {
    "id": "rFfiOdPDRn0V"
   },
   "outputs": [],
   "source": []
  },
  {
   "cell_type": "code",
   "execution_count": null,
   "metadata": {
    "id": "SiFb-IsSRn20"
   },
   "outputs": [],
   "source": []
  },
  {
   "cell_type": "code",
   "execution_count": null,
   "metadata": {
    "id": "QRtsSz5ERn5M"
   },
   "outputs": [],
   "source": []
  },
  {
   "cell_type": "code",
   "execution_count": null,
   "metadata": {
    "id": "qmYp8SluRn7f"
   },
   "outputs": [],
   "source": []
  },
  {
   "cell_type": "code",
   "execution_count": null,
   "metadata": {
    "id": "aovwMUYRRn94"
   },
   "outputs": [],
   "source": []
  },
  {
   "cell_type": "code",
   "execution_count": null,
   "metadata": {
    "id": "dUvTd-RjRoAX"
   },
   "outputs": [],
   "source": []
  },
  {
   "cell_type": "code",
   "execution_count": null,
   "metadata": {
    "id": "ZbgzIA2LRoCj"
   },
   "outputs": [],
   "source": []
  },
  {
   "cell_type": "code",
   "execution_count": null,
   "metadata": {
    "id": "l_VjhELeRoFN"
   },
   "outputs": [],
   "source": []
  },
  {
   "cell_type": "code",
   "execution_count": null,
   "metadata": {
    "id": "Q2JIAPOKRoIo"
   },
   "outputs": [],
   "source": []
  },
  {
   "cell_type": "code",
   "execution_count": null,
   "metadata": {
    "id": "2-N6_47_RULT"
   },
   "outputs": [],
   "source": []
  },
  {
   "cell_type": "code",
   "execution_count": null,
   "metadata": {
    "id": "lgth9SBCRUOo"
   },
   "outputs": [],
   "source": []
  },
  {
   "cell_type": "code",
   "execution_count": null,
   "metadata": {
    "id": "VQvJkzzXQ4ei"
   },
   "outputs": [],
   "source": []
  }
 ],
 "metadata": {
  "accelerator": "GPU",
  "colab": {
   "gpuType": "A100",
   "machine_shape": "hm",
   "provenance": []
  },
  "kernelspec": {
   "display_name": "Python 3 (ipykernel)",
   "language": "python",
   "name": "python3"
  },
  "language_info": {
   "codemirror_mode": {
    "name": "ipython",
    "version": 3
   },
   "file_extension": ".py",
   "mimetype": "text/x-python",
   "name": "python",
   "nbconvert_exporter": "python",
   "pygments_lexer": "ipython3",
   "version": "3.11.7"
  },
  "widgets": {
   "application/vnd.jupyter.widget-state+json": {
    "045ad7c6d2b542e9afb8079a835bf51b": {
     "model_module": "@jupyter-widgets/base",
     "model_module_version": "1.2.0",
     "model_name": "LayoutModel",
     "state": {
      "_model_module": "@jupyter-widgets/base",
      "_model_module_version": "1.2.0",
      "_model_name": "LayoutModel",
      "_view_count": null,
      "_view_module": "@jupyter-widgets/base",
      "_view_module_version": "1.2.0",
      "_view_name": "LayoutView",
      "align_content": null,
      "align_items": null,
      "align_self": null,
      "border": null,
      "bottom": null,
      "display": null,
      "flex": null,
      "flex_flow": null,
      "grid_area": null,
      "grid_auto_columns": null,
      "grid_auto_flow": null,
      "grid_auto_rows": null,
      "grid_column": null,
      "grid_gap": null,
      "grid_row": null,
      "grid_template_areas": null,
      "grid_template_columns": null,
      "grid_template_rows": null,
      "height": null,
      "justify_content": null,
      "justify_items": null,
      "left": null,
      "margin": null,
      "max_height": null,
      "max_width": null,
      "min_height": null,
      "min_width": null,
      "object_fit": null,
      "object_position": null,
      "order": null,
      "overflow": null,
      "overflow_x": null,
      "overflow_y": null,
      "padding": null,
      "right": null,
      "top": null,
      "visibility": null,
      "width": null
     }
    },
    "0d7c3a16b9254e369b05269b16d58b0b": {
     "model_module": "@jupyter-widgets/controls",
     "model_module_version": "1.5.0",
     "model_name": "DescriptionStyleModel",
     "state": {
      "_model_module": "@jupyter-widgets/controls",
      "_model_module_version": "1.5.0",
      "_model_name": "DescriptionStyleModel",
      "_view_count": null,
      "_view_module": "@jupyter-widgets/base",
      "_view_module_version": "1.2.0",
      "_view_name": "StyleView",
      "description_width": ""
     }
    },
    "0dc968ac0c734a1d9942c03dc84859ed": {
     "model_module": "@jupyter-widgets/controls",
     "model_module_version": "1.5.0",
     "model_name": "HTMLModel",
     "state": {
      "_dom_classes": [],
      "_model_module": "@jupyter-widgets/controls",
      "_model_module_version": "1.5.0",
      "_model_name": "HTMLModel",
      "_view_count": null,
      "_view_module": "@jupyter-widgets/controls",
      "_view_module_version": "1.5.0",
      "_view_name": "HTMLView",
      "description": "",
      "description_tooltip": null,
      "layout": "IPY_MODEL_16f8f63b4fb841ba98fbe4811dced503",
      "placeholder": "​",
      "style": "IPY_MODEL_0d7c3a16b9254e369b05269b16d58b0b",
      "value": "Map: 100%"
     }
    },
    "13313a575a084035886ebd67cea308ca": {
     "model_module": "@jupyter-widgets/controls",
     "model_module_version": "1.5.0",
     "model_name": "DescriptionStyleModel",
     "state": {
      "_model_module": "@jupyter-widgets/controls",
      "_model_module_version": "1.5.0",
      "_model_name": "DescriptionStyleModel",
      "_view_count": null,
      "_view_module": "@jupyter-widgets/base",
      "_view_module_version": "1.2.0",
      "_view_name": "StyleView",
      "description_width": ""
     }
    },
    "14086bf8cd4641049436d0f218f9516b": {
     "model_module": "@jupyter-widgets/controls",
     "model_module_version": "1.5.0",
     "model_name": "FloatProgressModel",
     "state": {
      "_dom_classes": [],
      "_model_module": "@jupyter-widgets/controls",
      "_model_module_version": "1.5.0",
      "_model_name": "FloatProgressModel",
      "_view_count": null,
      "_view_module": "@jupyter-widgets/controls",
      "_view_module_version": "1.5.0",
      "_view_name": "ProgressView",
      "bar_style": "success",
      "description": "",
      "description_tooltip": null,
      "layout": "IPY_MODEL_e851d64f7dcf4d8f93c6c88e68ed12ff",
      "max": 3103,
      "min": 0,
      "orientation": "horizontal",
      "style": "IPY_MODEL_b0c3065fe8934e419826290004082185",
      "value": 3103
     }
    },
    "16f8f63b4fb841ba98fbe4811dced503": {
     "model_module": "@jupyter-widgets/base",
     "model_module_version": "1.2.0",
     "model_name": "LayoutModel",
     "state": {
      "_model_module": "@jupyter-widgets/base",
      "_model_module_version": "1.2.0",
      "_model_name": "LayoutModel",
      "_view_count": null,
      "_view_module": "@jupyter-widgets/base",
      "_view_module_version": "1.2.0",
      "_view_name": "LayoutView",
      "align_content": null,
      "align_items": null,
      "align_self": null,
      "border": null,
      "bottom": null,
      "display": null,
      "flex": null,
      "flex_flow": null,
      "grid_area": null,
      "grid_auto_columns": null,
      "grid_auto_flow": null,
      "grid_auto_rows": null,
      "grid_column": null,
      "grid_gap": null,
      "grid_row": null,
      "grid_template_areas": null,
      "grid_template_columns": null,
      "grid_template_rows": null,
      "height": null,
      "justify_content": null,
      "justify_items": null,
      "left": null,
      "margin": null,
      "max_height": null,
      "max_width": null,
      "min_height": null,
      "min_width": null,
      "object_fit": null,
      "object_position": null,
      "order": null,
      "overflow": null,
      "overflow_x": null,
      "overflow_y": null,
      "padding": null,
      "right": null,
      "top": null,
      "visibility": null,
      "width": null
     }
    },
    "1737b85d843842f09c4f7a269ce60a2f": {
     "model_module": "@jupyter-widgets/controls",
     "model_module_version": "1.5.0",
     "model_name": "HTMLModel",
     "state": {
      "_dom_classes": [],
      "_model_module": "@jupyter-widgets/controls",
      "_model_module_version": "1.5.0",
      "_model_name": "HTMLModel",
      "_view_count": null,
      "_view_module": "@jupyter-widgets/controls",
      "_view_module_version": "1.5.0",
      "_view_name": "HTMLView",
      "description": "",
      "description_tooltip": null,
      "layout": "IPY_MODEL_293940abac6d4a7093ca05a1699774ea",
      "placeholder": "​",
      "style": "IPY_MODEL_4396853163fe4ccf9e8cafbc779459d5",
      "value": "Map (num_proc=4): 100%"
     }
    },
    "1ae668d667d34ef7ab5e96b08cb83c83": {
     "model_module": "@jupyter-widgets/controls",
     "model_module_version": "1.5.0",
     "model_name": "HTMLModel",
     "state": {
      "_dom_classes": [],
      "_model_module": "@jupyter-widgets/controls",
      "_model_module_version": "1.5.0",
      "_model_name": "HTMLModel",
      "_view_count": null,
      "_view_module": "@jupyter-widgets/controls",
      "_view_module_version": "1.5.0",
      "_view_name": "HTMLView",
      "description": "",
      "description_tooltip": null,
      "layout": "IPY_MODEL_ec3286a29fdf4df88c24fa7bbe599212",
      "placeholder": "​",
      "style": "IPY_MODEL_90844f2870464040aaa7852d3853fbc5",
      "value": " 12540/12540 [01:31&lt;00:00, 34.77 examples/s]"
     }
    },
    "1e1e1ac1a1bd4f3387e05fa30e3f0fa1": {
     "model_module": "@jupyter-widgets/controls",
     "model_module_version": "1.5.0",
     "model_name": "DescriptionStyleModel",
     "state": {
      "_model_module": "@jupyter-widgets/controls",
      "_model_module_version": "1.5.0",
      "_model_name": "DescriptionStyleModel",
      "_view_count": null,
      "_view_module": "@jupyter-widgets/base",
      "_view_module_version": "1.2.0",
      "_view_name": "StyleView",
      "description_width": ""
     }
    },
    "2107bc6e36e2467bb9d956d5b0f709f3": {
     "model_module": "@jupyter-widgets/controls",
     "model_module_version": "1.5.0",
     "model_name": "HBoxModel",
     "state": {
      "_dom_classes": [],
      "_model_module": "@jupyter-widgets/controls",
      "_model_module_version": "1.5.0",
      "_model_name": "HBoxModel",
      "_view_count": null,
      "_view_module": "@jupyter-widgets/controls",
      "_view_module_version": "1.5.0",
      "_view_name": "HBoxView",
      "box_style": "",
      "children": [
       "IPY_MODEL_7dc912a04ffa4f158946701732302190",
       "IPY_MODEL_32fd72d5d3d14317837cc2889e6bc3fa",
       "IPY_MODEL_1ae668d667d34ef7ab5e96b08cb83c83"
      ],
      "layout": "IPY_MODEL_28c9e4ca4970469da713929ca1f775db"
     }
    },
    "245e7223df054b69bc38000d7ba7664f": {
     "model_module": "@jupyter-widgets/controls",
     "model_module_version": "1.5.0",
     "model_name": "FloatProgressModel",
     "state": {
      "_dom_classes": [],
      "_model_module": "@jupyter-widgets/controls",
      "_model_module_version": "1.5.0",
      "_model_name": "FloatProgressModel",
      "_view_count": null,
      "_view_module": "@jupyter-widgets/controls",
      "_view_module_version": "1.5.0",
      "_view_name": "ProgressView",
      "bar_style": "success",
      "description": "",
      "description_tooltip": null,
      "layout": "IPY_MODEL_c1843c0e8f6541e7bd7181e727e811cc",
      "max": 12540,
      "min": 0,
      "orientation": "horizontal",
      "style": "IPY_MODEL_50dc9043443841f29db4f0a50d05bda3",
      "value": 12540
     }
    },
    "28c9e4ca4970469da713929ca1f775db": {
     "model_module": "@jupyter-widgets/base",
     "model_module_version": "1.2.0",
     "model_name": "LayoutModel",
     "state": {
      "_model_module": "@jupyter-widgets/base",
      "_model_module_version": "1.2.0",
      "_model_name": "LayoutModel",
      "_view_count": null,
      "_view_module": "@jupyter-widgets/base",
      "_view_module_version": "1.2.0",
      "_view_name": "LayoutView",
      "align_content": null,
      "align_items": null,
      "align_self": null,
      "border": null,
      "bottom": null,
      "display": null,
      "flex": null,
      "flex_flow": null,
      "grid_area": null,
      "grid_auto_columns": null,
      "grid_auto_flow": null,
      "grid_auto_rows": null,
      "grid_column": null,
      "grid_gap": null,
      "grid_row": null,
      "grid_template_areas": null,
      "grid_template_columns": null,
      "grid_template_rows": null,
      "height": null,
      "justify_content": null,
      "justify_items": null,
      "left": null,
      "margin": null,
      "max_height": null,
      "max_width": null,
      "min_height": null,
      "min_width": null,
      "object_fit": null,
      "object_position": null,
      "order": null,
      "overflow": null,
      "overflow_x": null,
      "overflow_y": null,
      "padding": null,
      "right": null,
      "top": null,
      "visibility": null,
      "width": null
     }
    },
    "293940abac6d4a7093ca05a1699774ea": {
     "model_module": "@jupyter-widgets/base",
     "model_module_version": "1.2.0",
     "model_name": "LayoutModel",
     "state": {
      "_model_module": "@jupyter-widgets/base",
      "_model_module_version": "1.2.0",
      "_model_name": "LayoutModel",
      "_view_count": null,
      "_view_module": "@jupyter-widgets/base",
      "_view_module_version": "1.2.0",
      "_view_name": "LayoutView",
      "align_content": null,
      "align_items": null,
      "align_self": null,
      "border": null,
      "bottom": null,
      "display": null,
      "flex": null,
      "flex_flow": null,
      "grid_area": null,
      "grid_auto_columns": null,
      "grid_auto_flow": null,
      "grid_auto_rows": null,
      "grid_column": null,
      "grid_gap": null,
      "grid_row": null,
      "grid_template_areas": null,
      "grid_template_columns": null,
      "grid_template_rows": null,
      "height": null,
      "justify_content": null,
      "justify_items": null,
      "left": null,
      "margin": null,
      "max_height": null,
      "max_width": null,
      "min_height": null,
      "min_width": null,
      "object_fit": null,
      "object_position": null,
      "order": null,
      "overflow": null,
      "overflow_x": null,
      "overflow_y": null,
      "padding": null,
      "right": null,
      "top": null,
      "visibility": null,
      "width": null
     }
    },
    "302bcae25a054bb990b458cf36aee5c1": {
     "model_module": "@jupyter-widgets/controls",
     "model_module_version": "1.5.0",
     "model_name": "HBoxModel",
     "state": {
      "_dom_classes": [],
      "_model_module": "@jupyter-widgets/controls",
      "_model_module_version": "1.5.0",
      "_model_name": "HBoxModel",
      "_view_count": null,
      "_view_module": "@jupyter-widgets/controls",
      "_view_module_version": "1.5.0",
      "_view_name": "HBoxView",
      "box_style": "",
      "children": [
       "IPY_MODEL_9875299649de4644803ebf360793d062",
       "IPY_MODEL_e8abcadccc3249339eb7bb59ffa1089f",
       "IPY_MODEL_63758a7c597e422d882b08664b3201c4"
      ],
      "layout": "IPY_MODEL_464b9558b3c64f32888062a936bceeac"
     }
    },
    "32fd72d5d3d14317837cc2889e6bc3fa": {
     "model_module": "@jupyter-widgets/controls",
     "model_module_version": "1.5.0",
     "model_name": "FloatProgressModel",
     "state": {
      "_dom_classes": [],
      "_model_module": "@jupyter-widgets/controls",
      "_model_module_version": "1.5.0",
      "_model_name": "FloatProgressModel",
      "_view_count": null,
      "_view_module": "@jupyter-widgets/controls",
      "_view_module_version": "1.5.0",
      "_view_name": "ProgressView",
      "bar_style": "success",
      "description": "",
      "description_tooltip": null,
      "layout": "IPY_MODEL_045ad7c6d2b542e9afb8079a835bf51b",
      "max": 12540,
      "min": 0,
      "orientation": "horizontal",
      "style": "IPY_MODEL_6faa720c91c845e89acfb786280aea78",
      "value": 12540
     }
    },
    "4396853163fe4ccf9e8cafbc779459d5": {
     "model_module": "@jupyter-widgets/controls",
     "model_module_version": "1.5.0",
     "model_name": "DescriptionStyleModel",
     "state": {
      "_model_module": "@jupyter-widgets/controls",
      "_model_module_version": "1.5.0",
      "_model_name": "DescriptionStyleModel",
      "_view_count": null,
      "_view_module": "@jupyter-widgets/base",
      "_view_module_version": "1.2.0",
      "_view_name": "StyleView",
      "description_width": ""
     }
    },
    "464b9558b3c64f32888062a936bceeac": {
     "model_module": "@jupyter-widgets/base",
     "model_module_version": "1.2.0",
     "model_name": "LayoutModel",
     "state": {
      "_model_module": "@jupyter-widgets/base",
      "_model_module_version": "1.2.0",
      "_model_name": "LayoutModel",
      "_view_count": null,
      "_view_module": "@jupyter-widgets/base",
      "_view_module_version": "1.2.0",
      "_view_name": "LayoutView",
      "align_content": null,
      "align_items": null,
      "align_self": null,
      "border": null,
      "bottom": null,
      "display": null,
      "flex": null,
      "flex_flow": null,
      "grid_area": null,
      "grid_auto_columns": null,
      "grid_auto_flow": null,
      "grid_auto_rows": null,
      "grid_column": null,
      "grid_gap": null,
      "grid_row": null,
      "grid_template_areas": null,
      "grid_template_columns": null,
      "grid_template_rows": null,
      "height": null,
      "justify_content": null,
      "justify_items": null,
      "left": null,
      "margin": null,
      "max_height": null,
      "max_width": null,
      "min_height": null,
      "min_width": null,
      "object_fit": null,
      "object_position": null,
      "order": null,
      "overflow": null,
      "overflow_x": null,
      "overflow_y": null,
      "padding": null,
      "right": null,
      "top": null,
      "visibility": null,
      "width": null
     }
    },
    "46e37a0b2b57432fa12f7642f5836582": {
     "model_module": "@jupyter-widgets/controls",
     "model_module_version": "1.5.0",
     "model_name": "DescriptionStyleModel",
     "state": {
      "_model_module": "@jupyter-widgets/controls",
      "_model_module_version": "1.5.0",
      "_model_name": "DescriptionStyleModel",
      "_view_count": null,
      "_view_module": "@jupyter-widgets/base",
      "_view_module_version": "1.2.0",
      "_view_name": "StyleView",
      "description_width": ""
     }
    },
    "4de498b5f6d34d5c8a30c2aaf0f1b6c9": {
     "model_module": "@jupyter-widgets/controls",
     "model_module_version": "1.5.0",
     "model_name": "HBoxModel",
     "state": {
      "_dom_classes": [],
      "_model_module": "@jupyter-widgets/controls",
      "_model_module_version": "1.5.0",
      "_model_name": "HBoxModel",
      "_view_count": null,
      "_view_module": "@jupyter-widgets/controls",
      "_view_module_version": "1.5.0",
      "_view_name": "HBoxView",
      "box_style": "",
      "children": [
       "IPY_MODEL_0dc968ac0c734a1d9942c03dc84859ed",
       "IPY_MODEL_245e7223df054b69bc38000d7ba7664f",
       "IPY_MODEL_a295e6fd7df741a3a2f5f95a80fc3941"
      ],
      "layout": "IPY_MODEL_cd848a7b12654990b7d09d06157d3875"
     }
    },
    "50dc9043443841f29db4f0a50d05bda3": {
     "model_module": "@jupyter-widgets/controls",
     "model_module_version": "1.5.0",
     "model_name": "ProgressStyleModel",
     "state": {
      "_model_module": "@jupyter-widgets/controls",
      "_model_module_version": "1.5.0",
      "_model_name": "ProgressStyleModel",
      "_view_count": null,
      "_view_module": "@jupyter-widgets/base",
      "_view_module_version": "1.2.0",
      "_view_name": "StyleView",
      "bar_color": null,
      "description_width": ""
     }
    },
    "63758a7c597e422d882b08664b3201c4": {
     "model_module": "@jupyter-widgets/controls",
     "model_module_version": "1.5.0",
     "model_name": "HTMLModel",
     "state": {
      "_dom_classes": [],
      "_model_module": "@jupyter-widgets/controls",
      "_model_module_version": "1.5.0",
      "_model_name": "HTMLModel",
      "_view_count": null,
      "_view_module": "@jupyter-widgets/controls",
      "_view_module_version": "1.5.0",
      "_view_name": "HTMLView",
      "description": "",
      "description_tooltip": null,
      "layout": "IPY_MODEL_9913eeb1bf994a07b3f84d0a70b86639",
      "placeholder": "​",
      "style": "IPY_MODEL_a078a0e590fb40068e24d09846973f5a",
      "value": " 3103/3103 [00:00&lt;00:00, 109693.59 examples/s]"
     }
    },
    "6faa720c91c845e89acfb786280aea78": {
     "model_module": "@jupyter-widgets/controls",
     "model_module_version": "1.5.0",
     "model_name": "ProgressStyleModel",
     "state": {
      "_model_module": "@jupyter-widgets/controls",
      "_model_module_version": "1.5.0",
      "_model_name": "ProgressStyleModel",
      "_view_count": null,
      "_view_module": "@jupyter-widgets/base",
      "_view_module_version": "1.2.0",
      "_view_name": "StyleView",
      "bar_color": null,
      "description_width": ""
     }
    },
    "7dc912a04ffa4f158946701732302190": {
     "model_module": "@jupyter-widgets/controls",
     "model_module_version": "1.5.0",
     "model_name": "HTMLModel",
     "state": {
      "_dom_classes": [],
      "_model_module": "@jupyter-widgets/controls",
      "_model_module_version": "1.5.0",
      "_model_name": "HTMLModel",
      "_view_count": null,
      "_view_module": "@jupyter-widgets/controls",
      "_view_module_version": "1.5.0",
      "_view_name": "HTMLView",
      "description": "",
      "description_tooltip": null,
      "layout": "IPY_MODEL_8339a0edb8b7477d89bd94d1d7eb8acb",
      "placeholder": "​",
      "style": "IPY_MODEL_fb819e9f305d4f3fbede0b86b3bdec8a",
      "value": "Map (num_proc=4): 100%"
     }
    },
    "8339a0edb8b7477d89bd94d1d7eb8acb": {
     "model_module": "@jupyter-widgets/base",
     "model_module_version": "1.2.0",
     "model_name": "LayoutModel",
     "state": {
      "_model_module": "@jupyter-widgets/base",
      "_model_module_version": "1.2.0",
      "_model_name": "LayoutModel",
      "_view_count": null,
      "_view_module": "@jupyter-widgets/base",
      "_view_module_version": "1.2.0",
      "_view_name": "LayoutView",
      "align_content": null,
      "align_items": null,
      "align_self": null,
      "border": null,
      "bottom": null,
      "display": null,
      "flex": null,
      "flex_flow": null,
      "grid_area": null,
      "grid_auto_columns": null,
      "grid_auto_flow": null,
      "grid_auto_rows": null,
      "grid_column": null,
      "grid_gap": null,
      "grid_row": null,
      "grid_template_areas": null,
      "grid_template_columns": null,
      "grid_template_rows": null,
      "height": null,
      "justify_content": null,
      "justify_items": null,
      "left": null,
      "margin": null,
      "max_height": null,
      "max_width": null,
      "min_height": null,
      "min_width": null,
      "object_fit": null,
      "object_position": null,
      "order": null,
      "overflow": null,
      "overflow_x": null,
      "overflow_y": null,
      "padding": null,
      "right": null,
      "top": null,
      "visibility": null,
      "width": null
     }
    },
    "90844f2870464040aaa7852d3853fbc5": {
     "model_module": "@jupyter-widgets/controls",
     "model_module_version": "1.5.0",
     "model_name": "DescriptionStyleModel",
     "state": {
      "_model_module": "@jupyter-widgets/controls",
      "_model_module_version": "1.5.0",
      "_model_name": "DescriptionStyleModel",
      "_view_count": null,
      "_view_module": "@jupyter-widgets/base",
      "_view_module_version": "1.2.0",
      "_view_name": "StyleView",
      "description_width": ""
     }
    },
    "9875299649de4644803ebf360793d062": {
     "model_module": "@jupyter-widgets/controls",
     "model_module_version": "1.5.0",
     "model_name": "HTMLModel",
     "state": {
      "_dom_classes": [],
      "_model_module": "@jupyter-widgets/controls",
      "_model_module_version": "1.5.0",
      "_model_name": "HTMLModel",
      "_view_count": null,
      "_view_module": "@jupyter-widgets/controls",
      "_view_module_version": "1.5.0",
      "_view_name": "HTMLView",
      "description": "",
      "description_tooltip": null,
      "layout": "IPY_MODEL_e2af725155384e8b83d961a25e2e1bd3",
      "placeholder": "​",
      "style": "IPY_MODEL_13313a575a084035886ebd67cea308ca",
      "value": "Map: 100%"
     }
    },
    "9913eeb1bf994a07b3f84d0a70b86639": {
     "model_module": "@jupyter-widgets/base",
     "model_module_version": "1.2.0",
     "model_name": "LayoutModel",
     "state": {
      "_model_module": "@jupyter-widgets/base",
      "_model_module_version": "1.2.0",
      "_model_name": "LayoutModel",
      "_view_count": null,
      "_view_module": "@jupyter-widgets/base",
      "_view_module_version": "1.2.0",
      "_view_name": "LayoutView",
      "align_content": null,
      "align_items": null,
      "align_self": null,
      "border": null,
      "bottom": null,
      "display": null,
      "flex": null,
      "flex_flow": null,
      "grid_area": null,
      "grid_auto_columns": null,
      "grid_auto_flow": null,
      "grid_auto_rows": null,
      "grid_column": null,
      "grid_gap": null,
      "grid_row": null,
      "grid_template_areas": null,
      "grid_template_columns": null,
      "grid_template_rows": null,
      "height": null,
      "justify_content": null,
      "justify_items": null,
      "left": null,
      "margin": null,
      "max_height": null,
      "max_width": null,
      "min_height": null,
      "min_width": null,
      "object_fit": null,
      "object_position": null,
      "order": null,
      "overflow": null,
      "overflow_x": null,
      "overflow_y": null,
      "padding": null,
      "right": null,
      "top": null,
      "visibility": null,
      "width": null
     }
    },
    "99da8568c07948b98377da49dbe6fc26": {
     "model_module": "@jupyter-widgets/base",
     "model_module_version": "1.2.0",
     "model_name": "LayoutModel",
     "state": {
      "_model_module": "@jupyter-widgets/base",
      "_model_module_version": "1.2.0",
      "_model_name": "LayoutModel",
      "_view_count": null,
      "_view_module": "@jupyter-widgets/base",
      "_view_module_version": "1.2.0",
      "_view_name": "LayoutView",
      "align_content": null,
      "align_items": null,
      "align_self": null,
      "border": null,
      "bottom": null,
      "display": null,
      "flex": null,
      "flex_flow": null,
      "grid_area": null,
      "grid_auto_columns": null,
      "grid_auto_flow": null,
      "grid_auto_rows": null,
      "grid_column": null,
      "grid_gap": null,
      "grid_row": null,
      "grid_template_areas": null,
      "grid_template_columns": null,
      "grid_template_rows": null,
      "height": null,
      "justify_content": null,
      "justify_items": null,
      "left": null,
      "margin": null,
      "max_height": null,
      "max_width": null,
      "min_height": null,
      "min_width": null,
      "object_fit": null,
      "object_position": null,
      "order": null,
      "overflow": null,
      "overflow_x": null,
      "overflow_y": null,
      "padding": null,
      "right": null,
      "top": null,
      "visibility": null,
      "width": null
     }
    },
    "a078a0e590fb40068e24d09846973f5a": {
     "model_module": "@jupyter-widgets/controls",
     "model_module_version": "1.5.0",
     "model_name": "DescriptionStyleModel",
     "state": {
      "_model_module": "@jupyter-widgets/controls",
      "_model_module_version": "1.5.0",
      "_model_name": "DescriptionStyleModel",
      "_view_count": null,
      "_view_module": "@jupyter-widgets/base",
      "_view_module_version": "1.2.0",
      "_view_name": "StyleView",
      "description_width": ""
     }
    },
    "a295e6fd7df741a3a2f5f95a80fc3941": {
     "model_module": "@jupyter-widgets/controls",
     "model_module_version": "1.5.0",
     "model_name": "HTMLModel",
     "state": {
      "_dom_classes": [],
      "_model_module": "@jupyter-widgets/controls",
      "_model_module_version": "1.5.0",
      "_model_name": "HTMLModel",
      "_view_count": null,
      "_view_module": "@jupyter-widgets/controls",
      "_view_module_version": "1.5.0",
      "_view_name": "HTMLView",
      "description": "",
      "description_tooltip": null,
      "layout": "IPY_MODEL_e111757821694f38ba9db842256086ca",
      "placeholder": "​",
      "style": "IPY_MODEL_46e37a0b2b57432fa12f7642f5836582",
      "value": " 12540/12540 [00:00&lt;00:00, 189706.05 examples/s]"
     }
    },
    "a9eb1b80468540499021eefbed8114e9": {
     "model_module": "@jupyter-widgets/controls",
     "model_module_version": "1.5.0",
     "model_name": "HTMLModel",
     "state": {
      "_dom_classes": [],
      "_model_module": "@jupyter-widgets/controls",
      "_model_module_version": "1.5.0",
      "_model_name": "HTMLModel",
      "_view_count": null,
      "_view_module": "@jupyter-widgets/controls",
      "_view_module_version": "1.5.0",
      "_view_name": "HTMLView",
      "description": "",
      "description_tooltip": null,
      "layout": "IPY_MODEL_ec7ec47c4824413c97e9c693507b2dff",
      "placeholder": "​",
      "style": "IPY_MODEL_1e1e1ac1a1bd4f3387e05fa30e3f0fa1",
      "value": " 3103/3103 [00:25&lt;00:00, 29.63 examples/s]"
     }
    },
    "b0c3065fe8934e419826290004082185": {
     "model_module": "@jupyter-widgets/controls",
     "model_module_version": "1.5.0",
     "model_name": "ProgressStyleModel",
     "state": {
      "_model_module": "@jupyter-widgets/controls",
      "_model_module_version": "1.5.0",
      "_model_name": "ProgressStyleModel",
      "_view_count": null,
      "_view_module": "@jupyter-widgets/base",
      "_view_module_version": "1.2.0",
      "_view_name": "StyleView",
      "bar_color": null,
      "description_width": ""
     }
    },
    "b56eb041f75445a2b294212f4d23d086": {
     "model_module": "@jupyter-widgets/controls",
     "model_module_version": "1.5.0",
     "model_name": "ProgressStyleModel",
     "state": {
      "_model_module": "@jupyter-widgets/controls",
      "_model_module_version": "1.5.0",
      "_model_name": "ProgressStyleModel",
      "_view_count": null,
      "_view_module": "@jupyter-widgets/base",
      "_view_module_version": "1.2.0",
      "_view_name": "StyleView",
      "bar_color": null,
      "description_width": ""
     }
    },
    "c1843c0e8f6541e7bd7181e727e811cc": {
     "model_module": "@jupyter-widgets/base",
     "model_module_version": "1.2.0",
     "model_name": "LayoutModel",
     "state": {
      "_model_module": "@jupyter-widgets/base",
      "_model_module_version": "1.2.0",
      "_model_name": "LayoutModel",
      "_view_count": null,
      "_view_module": "@jupyter-widgets/base",
      "_view_module_version": "1.2.0",
      "_view_name": "LayoutView",
      "align_content": null,
      "align_items": null,
      "align_self": null,
      "border": null,
      "bottom": null,
      "display": null,
      "flex": null,
      "flex_flow": null,
      "grid_area": null,
      "grid_auto_columns": null,
      "grid_auto_flow": null,
      "grid_auto_rows": null,
      "grid_column": null,
      "grid_gap": null,
      "grid_row": null,
      "grid_template_areas": null,
      "grid_template_columns": null,
      "grid_template_rows": null,
      "height": null,
      "justify_content": null,
      "justify_items": null,
      "left": null,
      "margin": null,
      "max_height": null,
      "max_width": null,
      "min_height": null,
      "min_width": null,
      "object_fit": null,
      "object_position": null,
      "order": null,
      "overflow": null,
      "overflow_x": null,
      "overflow_y": null,
      "padding": null,
      "right": null,
      "top": null,
      "visibility": null,
      "width": null
     }
    },
    "cd848a7b12654990b7d09d06157d3875": {
     "model_module": "@jupyter-widgets/base",
     "model_module_version": "1.2.0",
     "model_name": "LayoutModel",
     "state": {
      "_model_module": "@jupyter-widgets/base",
      "_model_module_version": "1.2.0",
      "_model_name": "LayoutModel",
      "_view_count": null,
      "_view_module": "@jupyter-widgets/base",
      "_view_module_version": "1.2.0",
      "_view_name": "LayoutView",
      "align_content": null,
      "align_items": null,
      "align_self": null,
      "border": null,
      "bottom": null,
      "display": null,
      "flex": null,
      "flex_flow": null,
      "grid_area": null,
      "grid_auto_columns": null,
      "grid_auto_flow": null,
      "grid_auto_rows": null,
      "grid_column": null,
      "grid_gap": null,
      "grid_row": null,
      "grid_template_areas": null,
      "grid_template_columns": null,
      "grid_template_rows": null,
      "height": null,
      "justify_content": null,
      "justify_items": null,
      "left": null,
      "margin": null,
      "max_height": null,
      "max_width": null,
      "min_height": null,
      "min_width": null,
      "object_fit": null,
      "object_position": null,
      "order": null,
      "overflow": null,
      "overflow_x": null,
      "overflow_y": null,
      "padding": null,
      "right": null,
      "top": null,
      "visibility": null,
      "width": null
     }
    },
    "dc66ef43d35141d3bd2aedb684fc524e": {
     "model_module": "@jupyter-widgets/controls",
     "model_module_version": "1.5.0",
     "model_name": "HBoxModel",
     "state": {
      "_dom_classes": [],
      "_model_module": "@jupyter-widgets/controls",
      "_model_module_version": "1.5.0",
      "_model_name": "HBoxModel",
      "_view_count": null,
      "_view_module": "@jupyter-widgets/controls",
      "_view_module_version": "1.5.0",
      "_view_name": "HBoxView",
      "box_style": "",
      "children": [
       "IPY_MODEL_1737b85d843842f09c4f7a269ce60a2f",
       "IPY_MODEL_14086bf8cd4641049436d0f218f9516b",
       "IPY_MODEL_a9eb1b80468540499021eefbed8114e9"
      ],
      "layout": "IPY_MODEL_99da8568c07948b98377da49dbe6fc26"
     }
    },
    "e111757821694f38ba9db842256086ca": {
     "model_module": "@jupyter-widgets/base",
     "model_module_version": "1.2.0",
     "model_name": "LayoutModel",
     "state": {
      "_model_module": "@jupyter-widgets/base",
      "_model_module_version": "1.2.0",
      "_model_name": "LayoutModel",
      "_view_count": null,
      "_view_module": "@jupyter-widgets/base",
      "_view_module_version": "1.2.0",
      "_view_name": "LayoutView",
      "align_content": null,
      "align_items": null,
      "align_self": null,
      "border": null,
      "bottom": null,
      "display": null,
      "flex": null,
      "flex_flow": null,
      "grid_area": null,
      "grid_auto_columns": null,
      "grid_auto_flow": null,
      "grid_auto_rows": null,
      "grid_column": null,
      "grid_gap": null,
      "grid_row": null,
      "grid_template_areas": null,
      "grid_template_columns": null,
      "grid_template_rows": null,
      "height": null,
      "justify_content": null,
      "justify_items": null,
      "left": null,
      "margin": null,
      "max_height": null,
      "max_width": null,
      "min_height": null,
      "min_width": null,
      "object_fit": null,
      "object_position": null,
      "order": null,
      "overflow": null,
      "overflow_x": null,
      "overflow_y": null,
      "padding": null,
      "right": null,
      "top": null,
      "visibility": null,
      "width": null
     }
    },
    "e2af725155384e8b83d961a25e2e1bd3": {
     "model_module": "@jupyter-widgets/base",
     "model_module_version": "1.2.0",
     "model_name": "LayoutModel",
     "state": {
      "_model_module": "@jupyter-widgets/base",
      "_model_module_version": "1.2.0",
      "_model_name": "LayoutModel",
      "_view_count": null,
      "_view_module": "@jupyter-widgets/base",
      "_view_module_version": "1.2.0",
      "_view_name": "LayoutView",
      "align_content": null,
      "align_items": null,
      "align_self": null,
      "border": null,
      "bottom": null,
      "display": null,
      "flex": null,
      "flex_flow": null,
      "grid_area": null,
      "grid_auto_columns": null,
      "grid_auto_flow": null,
      "grid_auto_rows": null,
      "grid_column": null,
      "grid_gap": null,
      "grid_row": null,
      "grid_template_areas": null,
      "grid_template_columns": null,
      "grid_template_rows": null,
      "height": null,
      "justify_content": null,
      "justify_items": null,
      "left": null,
      "margin": null,
      "max_height": null,
      "max_width": null,
      "min_height": null,
      "min_width": null,
      "object_fit": null,
      "object_position": null,
      "order": null,
      "overflow": null,
      "overflow_x": null,
      "overflow_y": null,
      "padding": null,
      "right": null,
      "top": null,
      "visibility": null,
      "width": null
     }
    },
    "e851d64f7dcf4d8f93c6c88e68ed12ff": {
     "model_module": "@jupyter-widgets/base",
     "model_module_version": "1.2.0",
     "model_name": "LayoutModel",
     "state": {
      "_model_module": "@jupyter-widgets/base",
      "_model_module_version": "1.2.0",
      "_model_name": "LayoutModel",
      "_view_count": null,
      "_view_module": "@jupyter-widgets/base",
      "_view_module_version": "1.2.0",
      "_view_name": "LayoutView",
      "align_content": null,
      "align_items": null,
      "align_self": null,
      "border": null,
      "bottom": null,
      "display": null,
      "flex": null,
      "flex_flow": null,
      "grid_area": null,
      "grid_auto_columns": null,
      "grid_auto_flow": null,
      "grid_auto_rows": null,
      "grid_column": null,
      "grid_gap": null,
      "grid_row": null,
      "grid_template_areas": null,
      "grid_template_columns": null,
      "grid_template_rows": null,
      "height": null,
      "justify_content": null,
      "justify_items": null,
      "left": null,
      "margin": null,
      "max_height": null,
      "max_width": null,
      "min_height": null,
      "min_width": null,
      "object_fit": null,
      "object_position": null,
      "order": null,
      "overflow": null,
      "overflow_x": null,
      "overflow_y": null,
      "padding": null,
      "right": null,
      "top": null,
      "visibility": null,
      "width": null
     }
    },
    "e8abcadccc3249339eb7bb59ffa1089f": {
     "model_module": "@jupyter-widgets/controls",
     "model_module_version": "1.5.0",
     "model_name": "FloatProgressModel",
     "state": {
      "_dom_classes": [],
      "_model_module": "@jupyter-widgets/controls",
      "_model_module_version": "1.5.0",
      "_model_name": "FloatProgressModel",
      "_view_count": null,
      "_view_module": "@jupyter-widgets/controls",
      "_view_module_version": "1.5.0",
      "_view_name": "ProgressView",
      "bar_style": "success",
      "description": "",
      "description_tooltip": null,
      "layout": "IPY_MODEL_fbdb41870c524f728eeaaf2e09abb468",
      "max": 3103,
      "min": 0,
      "orientation": "horizontal",
      "style": "IPY_MODEL_b56eb041f75445a2b294212f4d23d086",
      "value": 3103
     }
    },
    "ec3286a29fdf4df88c24fa7bbe599212": {
     "model_module": "@jupyter-widgets/base",
     "model_module_version": "1.2.0",
     "model_name": "LayoutModel",
     "state": {
      "_model_module": "@jupyter-widgets/base",
      "_model_module_version": "1.2.0",
      "_model_name": "LayoutModel",
      "_view_count": null,
      "_view_module": "@jupyter-widgets/base",
      "_view_module_version": "1.2.0",
      "_view_name": "LayoutView",
      "align_content": null,
      "align_items": null,
      "align_self": null,
      "border": null,
      "bottom": null,
      "display": null,
      "flex": null,
      "flex_flow": null,
      "grid_area": null,
      "grid_auto_columns": null,
      "grid_auto_flow": null,
      "grid_auto_rows": null,
      "grid_column": null,
      "grid_gap": null,
      "grid_row": null,
      "grid_template_areas": null,
      "grid_template_columns": null,
      "grid_template_rows": null,
      "height": null,
      "justify_content": null,
      "justify_items": null,
      "left": null,
      "margin": null,
      "max_height": null,
      "max_width": null,
      "min_height": null,
      "min_width": null,
      "object_fit": null,
      "object_position": null,
      "order": null,
      "overflow": null,
      "overflow_x": null,
      "overflow_y": null,
      "padding": null,
      "right": null,
      "top": null,
      "visibility": null,
      "width": null
     }
    },
    "ec7ec47c4824413c97e9c693507b2dff": {
     "model_module": "@jupyter-widgets/base",
     "model_module_version": "1.2.0",
     "model_name": "LayoutModel",
     "state": {
      "_model_module": "@jupyter-widgets/base",
      "_model_module_version": "1.2.0",
      "_model_name": "LayoutModel",
      "_view_count": null,
      "_view_module": "@jupyter-widgets/base",
      "_view_module_version": "1.2.0",
      "_view_name": "LayoutView",
      "align_content": null,
      "align_items": null,
      "align_self": null,
      "border": null,
      "bottom": null,
      "display": null,
      "flex": null,
      "flex_flow": null,
      "grid_area": null,
      "grid_auto_columns": null,
      "grid_auto_flow": null,
      "grid_auto_rows": null,
      "grid_column": null,
      "grid_gap": null,
      "grid_row": null,
      "grid_template_areas": null,
      "grid_template_columns": null,
      "grid_template_rows": null,
      "height": null,
      "justify_content": null,
      "justify_items": null,
      "left": null,
      "margin": null,
      "max_height": null,
      "max_width": null,
      "min_height": null,
      "min_width": null,
      "object_fit": null,
      "object_position": null,
      "order": null,
      "overflow": null,
      "overflow_x": null,
      "overflow_y": null,
      "padding": null,
      "right": null,
      "top": null,
      "visibility": null,
      "width": null
     }
    },
    "fb819e9f305d4f3fbede0b86b3bdec8a": {
     "model_module": "@jupyter-widgets/controls",
     "model_module_version": "1.5.0",
     "model_name": "DescriptionStyleModel",
     "state": {
      "_model_module": "@jupyter-widgets/controls",
      "_model_module_version": "1.5.0",
      "_model_name": "DescriptionStyleModel",
      "_view_count": null,
      "_view_module": "@jupyter-widgets/base",
      "_view_module_version": "1.2.0",
      "_view_name": "StyleView",
      "description_width": ""
     }
    },
    "fbdb41870c524f728eeaaf2e09abb468": {
     "model_module": "@jupyter-widgets/base",
     "model_module_version": "1.2.0",
     "model_name": "LayoutModel",
     "state": {
      "_model_module": "@jupyter-widgets/base",
      "_model_module_version": "1.2.0",
      "_model_name": "LayoutModel",
      "_view_count": null,
      "_view_module": "@jupyter-widgets/base",
      "_view_module_version": "1.2.0",
      "_view_name": "LayoutView",
      "align_content": null,
      "align_items": null,
      "align_self": null,
      "border": null,
      "bottom": null,
      "display": null,
      "flex": null,
      "flex_flow": null,
      "grid_area": null,
      "grid_auto_columns": null,
      "grid_auto_flow": null,
      "grid_auto_rows": null,
      "grid_column": null,
      "grid_gap": null,
      "grid_row": null,
      "grid_template_areas": null,
      "grid_template_columns": null,
      "grid_template_rows": null,
      "height": null,
      "justify_content": null,
      "justify_items": null,
      "left": null,
      "margin": null,
      "max_height": null,
      "max_width": null,
      "min_height": null,
      "min_width": null,
      "object_fit": null,
      "object_position": null,
      "order": null,
      "overflow": null,
      "overflow_x": null,
      "overflow_y": null,
      "padding": null,
      "right": null,
      "top": null,
      "visibility": null,
      "width": null
     }
    }
   }
  }
 },
 "nbformat": 4,
 "nbformat_minor": 4
}
